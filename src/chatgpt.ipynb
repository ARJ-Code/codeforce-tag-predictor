{
 "cells": [
  {
   "cell_type": "code",
   "execution_count": 3,
   "metadata": {},
   "outputs": [],
   "source": [
    "import pandas as pd\n",
    "import ast\n"
   ]
  },
  {
   "cell_type": "markdown",
   "metadata": {},
   "source": [
    "### Prompt y preprocesamiento inicial"
   ]
  },
  {
   "cell_type": "code",
   "execution_count": 8,
   "metadata": {},
   "outputs": [],
   "source": [
    "\n",
    "df = pd.read_csv('../data/codeforces_processed_data.csv')\n",
    "\n",
    "tags = df['tags'].apply(ast.literal_eval)\n",
    "all_tags = set([tag for sublist in tags for tag in sublist])\n",
    "\n",
    "df=df.head(100)\n",
    "\n",
    "def prompt(description):\n",
    "    all_tags_str = ', '.join(all_tags)\n",
    "    return f'Give this set of {all_tags_str} tags and this problem ${description}, give me the set of problem tags in the following format: greedy, implementation, dp'\n",
    "    \n",
    "df['prompt'] = df['description'].apply(prompt)\n",
    "\n",
    "df.to_csv('../data/codeforce_chatgpt.csv', index=False)\n"
   ]
  },
  {
   "cell_type": "markdown",
   "metadata": {},
   "source": [
    "### Procesar las respuestas de chatgpt"
   ]
  },
  {
   "cell_type": "code",
   "execution_count": 9,
   "metadata": {},
   "outputs": [],
   "source": [
    "df = pd.read_csv('../data/codeforce_chatgpt.csv')\n",
    "\n",
    "tags = df['tags'].apply(ast.literal_eval)\n",
    "all_tags = set([tag for sublist in tags for tag in sublist])\n",
    "\n",
    "def analice(ans):\n",
    "    ans=ans.split(', ')\n",
    "    \n",
    "    return str([i for i in ans if i in all_tags])\n",
    "\n",
    "df['chatgpt_tags'] = df['chatgpt_tags'].apply(analice)\n",
    "\n",
    "df.to_csv('../data/codeforce_chatgpt.csv', index=False)\n",
    "\n"
   ]
  }
 ],
 "metadata": {
  "kernelspec": {
   "display_name": "Python 3",
   "language": "python",
   "name": "python3"
  },
  "language_info": {
   "codemirror_mode": {
    "name": "ipython",
    "version": 3
   },
   "file_extension": ".py",
   "mimetype": "text/x-python",
   "name": "python",
   "nbconvert_exporter": "python",
   "pygments_lexer": "ipython3",
   "version": "3.10.12"
  }
 },
 "nbformat": 4,
 "nbformat_minor": 2
}

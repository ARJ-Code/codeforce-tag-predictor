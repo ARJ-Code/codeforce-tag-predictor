{
 "cells": [
  {
   "cell_type": "code",
   "execution_count": 1,
   "metadata": {},
   "outputs": [
    {
     "name": "stderr",
     "output_type": "stream",
     "text": [
      "c:\\Users\\alexs\\AppData\\Local\\Programs\\Python\\Python312\\Lib\\site-packages\\tqdm\\auto.py:21: TqdmWarning: IProgress not found. Please update jupyter and ipywidgets. See https://ipywidgets.readthedocs.io/en/stable/user_install.html\n",
      "  from .autonotebook import tqdm as notebook_tqdm\n"
     ]
    }
   ],
   "source": [
    "import pandas as pd\n",
    "\n",
    "from trainer import config"
   ]
  },
  {
   "cell_type": "code",
   "execution_count": 2,
   "metadata": {},
   "outputs": [],
   "source": [
    "df = pd.read_csv('./data/CTP10/en_CTP10.csv', index_col=0, encoding='utf8')"
   ]
  },
  {
   "cell_type": "code",
   "execution_count": 3,
   "metadata": {},
   "outputs": [],
   "source": [
    "def tokenizing(tokenizer, data, max_length=1024):\n",
    "    data = list(data.values)\n",
    "    tokenized_data = tokenizer(data, padding=True, truncation=True, return_tensors='pt', max_length=max_length)\n",
    "    \n",
    "    input_ids = tokenized_data['input_ids']\n",
    "    attention_mask = tokenized_data['attention_mask']\n",
    "\n",
    "    input_ids[attention_mask == 0] = 0\n",
    "    \n",
    "    return input_ids, attention_mask"
   ]
  },
  {
   "cell_type": "code",
   "execution_count": 4,
   "metadata": {},
   "outputs": [],
   "source": [
    "tokenizer = config['tokenizer']"
   ]
  },
  {
   "cell_type": "code",
   "execution_count": 7,
   "metadata": {},
   "outputs": [],
   "source": [
    "input_ids, _ = tokenizing(tokenizer, df['description'], max_length=1024)\n",
    "df['tokenized_description'] = input_ids.tolist()"
   ]
  },
  {
   "cell_type": "code",
   "execution_count": 9,
   "metadata": {},
   "outputs": [
    {
     "data": {
      "text/html": [
       "<div>\n",
       "<style scoped>\n",
       "    .dataframe tbody tr th:only-of-type {\n",
       "        vertical-align: middle;\n",
       "    }\n",
       "\n",
       "    .dataframe tbody tr th {\n",
       "        vertical-align: top;\n",
       "    }\n",
       "\n",
       "    .dataframe thead th {\n",
       "        text-align: right;\n",
       "    }\n",
       "</style>\n",
       "<table border=\"1\" class=\"dataframe\">\n",
       "  <thead>\n",
       "    <tr style=\"text-align: right;\">\n",
       "      <th></th>\n",
       "      <th>time_limit</th>\n",
       "      <th>memory_limit</th>\n",
       "      <th>description</th>\n",
       "      <th>tags</th>\n",
       "      <th>language</th>\n",
       "      <th>tokenized_description</th>\n",
       "    </tr>\n",
       "    <tr>\n",
       "      <th>Unnamed: 0</th>\n",
       "      <th></th>\n",
       "      <th></th>\n",
       "      <th></th>\n",
       "      <th></th>\n",
       "      <th></th>\n",
       "      <th></th>\n",
       "    </tr>\n",
       "  </thead>\n",
       "  <tbody>\n",
       "    <tr>\n",
       "      <th>1616/E</th>\n",
       "      <td>1.0</td>\n",
       "      <td>256.0</td>\n",
       "      <td>give two string $$$ s $$$ $$$ t $$$ equal leng...</td>\n",
       "      <td>['bruteforce', 'datastructures', 'greedy', 'st...</td>\n",
       "      <td>en</td>\n",
       "      <td>[0, 26650, 80, 6755, 68, 42654, 579, 68, 42654...</td>\n",
       "    </tr>\n",
       "    <tr>\n",
       "      <th>900/A</th>\n",
       "      <td>1.0</td>\n",
       "      <td>256.0</td>\n",
       "      <td>n distinct point a plane none lie oy axis chec...</td>\n",
       "      <td>['geometry', 'implementation']</td>\n",
       "      <td>en</td>\n",
       "      <td>[0, 282, 11693, 477, 10, 3286, 4146, 6105, 231...</td>\n",
       "    </tr>\n",
       "    <tr>\n",
       "      <th>702/F</th>\n",
       "      <td>4.0</td>\n",
       "      <td>1024.0</td>\n",
       "      <td>big consignment t - shirts go sale shop begin ...</td>\n",
       "      <td>['datastructures']</td>\n",
       "      <td>en</td>\n",
       "      <td>[0, 8527, 7407, 15645, 326, 111, 15331, 213, 1...</td>\n",
       "    </tr>\n",
       "    <tr>\n",
       "      <th>181/A</th>\n",
       "      <td>2.0</td>\n",
       "      <td>256.0</td>\n",
       "      <td>berland capital shake three bold crimes commit...</td>\n",
       "      <td>['bruteforce', 'geometry', 'implementation']</td>\n",
       "      <td>en</td>\n",
       "      <td>[0, 1943, 1245, 812, 8559, 130, 7457, 3474, 62...</td>\n",
       "    </tr>\n",
       "    <tr>\n",
       "      <th>1352/A</th>\n",
       "      <td>1.0</td>\n",
       "      <td>256.0</td>\n",
       "      <td>a positive ( strictly greater zero ) integer c...</td>\n",
       "      <td>['implementation', 'math']</td>\n",
       "      <td>en</td>\n",
       "      <td>[0, 102, 1313, 36, 14657, 2388, 4276, 4839, 48...</td>\n",
       "    </tr>\n",
       "  </tbody>\n",
       "</table>\n",
       "</div>"
      ],
      "text/plain": [
       "            time_limit  memory_limit  \\\n",
       "Unnamed: 0                             \n",
       "1616/E             1.0         256.0   \n",
       "900/A              1.0         256.0   \n",
       "702/F              4.0        1024.0   \n",
       "181/A              2.0         256.0   \n",
       "1352/A             1.0         256.0   \n",
       "\n",
       "                                                  description  \\\n",
       "Unnamed: 0                                                      \n",
       "1616/E      give two string $$$ s $$$ $$$ t $$$ equal leng...   \n",
       "900/A       n distinct point a plane none lie oy axis chec...   \n",
       "702/F       big consignment t - shirts go sale shop begin ...   \n",
       "181/A       berland capital shake three bold crimes commit...   \n",
       "1352/A      a positive ( strictly greater zero ) integer c...   \n",
       "\n",
       "                                                         tags language  \\\n",
       "Unnamed: 0                                                               \n",
       "1616/E      ['bruteforce', 'datastructures', 'greedy', 'st...       en   \n",
       "900/A                          ['geometry', 'implementation']       en   \n",
       "702/F                                      ['datastructures']       en   \n",
       "181/A            ['bruteforce', 'geometry', 'implementation']       en   \n",
       "1352/A                             ['implementation', 'math']       en   \n",
       "\n",
       "                                        tokenized_description  \n",
       "Unnamed: 0                                                     \n",
       "1616/E      [0, 26650, 80, 6755, 68, 42654, 579, 68, 42654...  \n",
       "900/A       [0, 282, 11693, 477, 10, 3286, 4146, 6105, 231...  \n",
       "702/F       [0, 8527, 7407, 15645, 326, 111, 15331, 213, 1...  \n",
       "181/A       [0, 1943, 1245, 812, 8559, 130, 7457, 3474, 62...  \n",
       "1352/A      [0, 102, 1313, 36, 14657, 2388, 4276, 4839, 48...  "
      ]
     },
     "execution_count": 9,
     "metadata": {},
     "output_type": "execute_result"
    }
   ],
   "source": [
    "df.to_csv('./data/CTP10/en_CTP10_tokenized.csv')\n",
    "df.head()"
   ]
  }
 ],
 "metadata": {
  "kernelspec": {
   "display_name": "Python 3",
   "language": "python",
   "name": "python3"
  },
  "language_info": {
   "codemirror_mode": {
    "name": "ipython",
    "version": 3
   },
   "file_extension": ".py",
   "mimetype": "text/x-python",
   "name": "python",
   "nbconvert_exporter": "python",
   "pygments_lexer": "ipython3",
   "version": "3.12.4"
  }
 },
 "nbformat": 4,
 "nbformat_minor": 2
}

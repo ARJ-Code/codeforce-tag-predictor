{
 "cells": [
  {
   "cell_type": "code",
   "execution_count": 2,
   "metadata": {},
   "outputs": [],
   "source": [
    "import pandas as pd\n",
    "\n",
    "import random\n",
    "import numpy as np\n",
    "\n",
    "import torch\n",
    "\n",
    "from sklearn.preprocessing import MultiLabelBinarizer\n",
    "\n",
    "import ast\n",
    "\n",
    "from trainer import Trainer, config"
   ]
  },
  {
   "cell_type": "code",
   "execution_count": 3,
   "metadata": {},
   "outputs": [
    {
     "data": {
      "text/html": [
       "<div>\n",
       "<style scoped>\n",
       "    .dataframe tbody tr th:only-of-type {\n",
       "        vertical-align: middle;\n",
       "    }\n",
       "\n",
       "    .dataframe tbody tr th {\n",
       "        vertical-align: top;\n",
       "    }\n",
       "\n",
       "    .dataframe thead th {\n",
       "        text-align: right;\n",
       "    }\n",
       "</style>\n",
       "<table border=\"1\" class=\"dataframe\">\n",
       "  <thead>\n",
       "    <tr style=\"text-align: right;\">\n",
       "      <th></th>\n",
       "      <th>time_limit</th>\n",
       "      <th>memory_limit</th>\n",
       "      <th>description</th>\n",
       "      <th>tags</th>\n",
       "      <th>language</th>\n",
       "    </tr>\n",
       "    <tr>\n",
       "      <th>Unnamed: 0</th>\n",
       "      <th></th>\n",
       "      <th></th>\n",
       "      <th></th>\n",
       "      <th></th>\n",
       "      <th></th>\n",
       "    </tr>\n",
       "  </thead>\n",
       "  <tbody>\n",
       "    <tr>\n",
       "      <th>1415/B</th>\n",
       "      <td>1.0</td>\n",
       "      <td>256.0</td>\n",
       "      <td>a street $$$ n $$$ house a line number $$$ 1 $...</td>\n",
       "      <td>['bruteforce', 'bruteforce', 'greedy']</td>\n",
       "      <td>en</td>\n",
       "    </tr>\n",
       "    <tr>\n",
       "      <th>103/A</th>\n",
       "      <td>2.0</td>\n",
       "      <td>256.0</td>\n",
       "      <td>average miner vaganych take refresher course s...</td>\n",
       "      <td>['greedy', 'implementation', 'math']</td>\n",
       "      <td>en</td>\n",
       "    </tr>\n",
       "    <tr>\n",
       "      <th>93/A</th>\n",
       "      <td>2.0</td>\n",
       "      <td>256.0</td>\n",
       "      <td>throughout igor k. 's life many situations wor...</td>\n",
       "      <td>['implementation']</td>\n",
       "      <td>en</td>\n",
       "    </tr>\n",
       "    <tr>\n",
       "      <th>31/A</th>\n",
       "      <td>2.0</td>\n",
       "      <td>256.0</td>\n",
       "      <td>professor vasechkin study evolution worm recen...</td>\n",
       "      <td>['implementation']</td>\n",
       "      <td>en</td>\n",
       "    </tr>\n",
       "    <tr>\n",
       "      <th>913/A</th>\n",
       "      <td>1.0</td>\n",
       "      <td>256.0</td>\n",
       "      <td>follow problem well - known : give integers n ...</td>\n",
       "      <td>['implementation', 'math']</td>\n",
       "      <td>en</td>\n",
       "    </tr>\n",
       "  </tbody>\n",
       "</table>\n",
       "</div>"
      ],
      "text/plain": [
       "            time_limit  memory_limit  \\\n",
       "Unnamed: 0                             \n",
       "1415/B             1.0         256.0   \n",
       "103/A              2.0         256.0   \n",
       "93/A               2.0         256.0   \n",
       "31/A               2.0         256.0   \n",
       "913/A              1.0         256.0   \n",
       "\n",
       "                                                  description  \\\n",
       "Unnamed: 0                                                      \n",
       "1415/B      a street $$$ n $$$ house a line number $$$ 1 $...   \n",
       "103/A       average miner vaganych take refresher course s...   \n",
       "93/A        throughout igor k. 's life many situations wor...   \n",
       "31/A        professor vasechkin study evolution worm recen...   \n",
       "913/A       follow problem well - known : give integers n ...   \n",
       "\n",
       "                                              tags language  \n",
       "Unnamed: 0                                                   \n",
       "1415/B      ['bruteforce', 'bruteforce', 'greedy']       en  \n",
       "103/A         ['greedy', 'implementation', 'math']       en  \n",
       "93/A                            ['implementation']       en  \n",
       "31/A                            ['implementation']       en  \n",
       "913/A                   ['implementation', 'math']       en  "
      ]
     },
     "execution_count": 3,
     "metadata": {},
     "output_type": "execute_result"
    }
   ],
   "source": [
    "train_df = pd.read_csv('./data/CTP10/train.csv', index_col=0, encoding='utf8')\n",
    "valid_df = pd.read_csv('./data/CTP10/validation.csv', index_col=0, encoding='utf8')\n",
    "train_df.head()"
   ]
  },
  {
   "cell_type": "code",
   "execution_count": 4,
   "metadata": {},
   "outputs": [],
   "source": [
    "def set_seed(seed):\n",
    "    random.seed(seed)\n",
    "    np.random.seed(seed)\n",
    "    torch.manual_seed(seed)\n",
    "    if torch.cuda.is_available():\n",
    "        torch.cuda.manual_seed_all(seed)\n",
    "set_seed(config['seed'])"
   ]
  },
  {
   "cell_type": "code",
   "execution_count": 5,
   "metadata": {},
   "outputs": [
    {
     "name": "stdout",
     "output_type": "stream",
     "text": [
      "974\n"
     ]
    }
   ],
   "source": [
    "new_train_idx = [] \n",
    "selected_train_tags = [] \n",
    "\n",
    "for index in train_df.index:\n",
    "    check = 0\n",
    "    t = []  \n",
    "\n",
    "    for tag in ast.literal_eval(train_df.loc[index]['tags']):\n",
    "        if tag in config['tags']:\n",
    "            check = 1\n",
    "            t.append(tag)\n",
    "\n",
    "    if check == 1:\n",
    "        selected_train_tags.append(t)\n",
    "        new_train_idx.append(index)\n",
    "\n",
    "print(len(new_train_idx)) "
   ]
  },
  {
   "cell_type": "code",
   "execution_count": 6,
   "metadata": {},
   "outputs": [
    {
     "name": "stdout",
     "output_type": "stream",
     "text": [
      "325\n"
     ]
    }
   ],
   "source": [
    "new_valid_idx = [] \n",
    "selected_valid_tags = [] \n",
    "\n",
    "for index in valid_df.index:\n",
    "    check = 0\n",
    "    t = []  \n",
    "\n",
    "    for tag in ast.literal_eval(valid_df.loc[index]['tags']):\n",
    "        if tag in config['tags']:\n",
    "            check = 1\n",
    "            t.append(tag)\n",
    "\n",
    "    if check == 1:\n",
    "        selected_valid_tags.append(t)\n",
    "        new_valid_idx.append(index)\n",
    "\n",
    "print(len(new_valid_idx)) "
   ]
  },
  {
   "cell_type": "code",
   "execution_count": 7,
   "metadata": {},
   "outputs": [],
   "source": [
    "train_df = train_df.loc[new_train_idx]\n",
    "train_df['tags'] = selected_train_tags\n",
    "\n",
    "valid_df = valid_df.loc[new_valid_idx]\n",
    "valid_df['tags'] = selected_valid_tags"
   ]
  },
  {
   "cell_type": "code",
   "execution_count": 8,
   "metadata": {},
   "outputs": [],
   "source": [
    "X_train = train_df['description']\n",
    "X_valid = valid_df['description']\n",
    "\n",
    "y_tags_train = train_df['tags']\n",
    "y_tags_valid = valid_df['tags']"
   ]
  },
  {
   "cell_type": "code",
   "execution_count": 9,
   "metadata": {},
   "outputs": [],
   "source": [
    "tag_label_encoder = MultiLabelBinarizer()\n",
    "\n",
    "y_tags_train = tag_label_encoder.fit_transform(y_tags_train)\n",
    "y_tags_valid = tag_label_encoder.transform(y_tags_valid)"
   ]
  },
  {
   "cell_type": "code",
   "execution_count": 10,
   "metadata": {},
   "outputs": [],
   "source": [
    "def tokenizing(tokenizer, data, max_length):\n",
    "    data = list(data.values)\n",
    "    tokenized_data = tokenizer(data, padding=True, truncation=True, return_tensors='pt', max_length=max_length)\n",
    "\n",
    "    return tokenized_data\n",
    "\n",
    "def convert_to_tensor(data, dtype):\n",
    "    tensor_data = torch.tensor(data, dtype=dtype)\n",
    "    return tensor_data"
   ]
  },
  {
   "cell_type": "code",
   "execution_count": 11,
   "metadata": {},
   "outputs": [],
   "source": [
    "tokenizer = config['tokenizer']\n",
    "model = config['model']"
   ]
  },
  {
   "cell_type": "code",
   "execution_count": 12,
   "metadata": {},
   "outputs": [],
   "source": [
    "tokenized_inputs_train = tokenizing(tokenizer, X_train, config['trainMaxLength'])\n",
    "tokenized_inputs_valid = tokenizing(tokenizer, X_valid, config['validMaxLength'])"
   ]
  },
  {
   "cell_type": "code",
   "execution_count": 13,
   "metadata": {},
   "outputs": [],
   "source": [
    "tags_labels_train = convert_to_tensor(y_tags_train, dtype=torch.float)\n",
    "tags_labels_valid = convert_to_tensor(y_tags_valid, dtype=torch.float)"
   ]
  },
  {
   "cell_type": "code",
   "execution_count": 14,
   "metadata": {},
   "outputs": [],
   "source": [
    "trainer = Trainer(model,\n",
    "                tag_label_encoder,\n",
    "                tokenized_inputs_train,\n",
    "                tokenized_inputs_valid,\n",
    "                tags_labels_train,\n",
    "                tags_labels_valid,\n",
    "                )"
   ]
  },
  {
   "cell_type": "code",
   "execution_count": 15,
   "metadata": {},
   "outputs": [
    {
     "name": "stderr",
     "output_type": "stream",
     "text": [
      "100%|██████████| 243/243 [1:26:51<00:00, 21.45s/it]\n",
      "100%|██████████| 82/82 [01:49<00:00,  1.34s/it]\n"
     ]
    },
    {
     "name": "stdout",
     "output_type": "stream",
     "text": [
      "Epoch 1/100, Train Loss: 0.0294, Valid Loss: 0.1117\n",
      "tag acc Max Score in this epoch: 0.12615384615384614\n",
      "tag valid Max F1 Score(macro) per class in this epoch: 0.3012989902488488\n",
      "tag valid Max F1 Score(micro) per class in this epoch: 0.4228110599078341\n",
      "tag valid Max F1 Score(weighted) per class in this epoch: 0.3973457965486768\n",
      "tag valid Max F1 Score(samples) per class in this epoch: 0.4023785103785104\n",
      "\n",
      "tag valid Max roc_auc_score avg in this epoch: 0.5526118637415185\n",
      "bruteforce : 0.5344926291684556\n",
      "constructivealgorithms : 0.6231997905210787\n",
      "datastructures : 0.6247412008281573\n",
      "dfsandsimilar : 0.4333596214511041\n",
      "dp : 0.4617146128524402\n",
      "geometry : 0.4810801513587891\n",
      "greedy : 0.6238899147102788\n",
      "implementation : 0.5867390133148619\n",
      "math : 0.6176953540036705\n",
      "strings : 0.5392063492063492\n",
      "\n",
      "tag acc Max Score: 0 at 0epochs\n",
      "tag valid Max F1 Score(macro) per class: 0 at 0epochs\n",
      "tag valid Max F1 Score(micro) per class: 0 at 0epochs\n",
      "tag valid Max F1 Score(weighted) per class: 0 at 0epochs\n",
      "tag valid Max F1 Score(samples) per class: 0 at 0epochs\n",
      "tag valid Max roc_auc_score: 0 at 0epochs\n",
      "\n",
      "Best Model Saved !\n",
      "\n",
      "----------------------------------------------------------------------------\n",
      "\n"
     ]
    },
    {
     "name": "stderr",
     "output_type": "stream",
     "text": [
      "100%|██████████| 243/243 [1:33:21<00:00, 23.05s/it]\n",
      "100%|██████████| 82/82 [03:25<00:00,  2.50s/it]\n",
      " 74%|███████▍  | 180/243 [1:13:40<21:25, 20.40s/it]"
     ]
    }
   ],
   "source": [
    "trainer.train()"
   ]
  }
 ],
 "metadata": {
  "kernelspec": {
   "display_name": "Python 3",
   "language": "python",
   "name": "python3"
  },
  "language_info": {
   "codemirror_mode": {
    "name": "ipython",
    "version": 3
   },
   "file_extension": ".py",
   "mimetype": "text/x-python",
   "name": "python",
   "nbconvert_exporter": "python",
   "pygments_lexer": "ipython3",
   "version": "3.12.4"
  }
 },
 "nbformat": 4,
 "nbformat_minor": 2
}

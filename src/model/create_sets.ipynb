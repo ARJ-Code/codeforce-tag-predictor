{
 "cells": [
  {
   "cell_type": "code",
   "execution_count": 54,
   "metadata": {},
   "outputs": [],
   "source": [
    "import pandas as pd\n",
    "from configurations import config\n",
    "from sklearn.model_selection import train_test_split\n",
    "import ast\n",
    "from collections import Counter\n",
    "import seaborn as sns\n",
    "import matplotlib.pyplot as plt"
   ]
  },
  {
   "cell_type": "code",
   "execution_count": 55,
   "metadata": {},
   "outputs": [],
   "source": [
    "def clean_tags(tag_str: str):\n",
    "    cleaned_str = tag_str.strip(\"[]\").replace(\" \", \"\").replace(\"'\", \"\")\n",
    "    tag_list = cleaned_str.split(',')\n",
    "    return tag_list\n",
    "\n",
    "def valid_tags(tags):\n",
    "    return all(tag in config['tags'] for tag in tags)"
   ]
  },
  {
   "cell_type": "code",
   "execution_count": 56,
   "metadata": {},
   "outputs": [
    {
     "data": {
      "text/html": [
       "<div>\n",
       "<style scoped>\n",
       "    .dataframe tbody tr th:only-of-type {\n",
       "        vertical-align: middle;\n",
       "    }\n",
       "\n",
       "    .dataframe tbody tr th {\n",
       "        vertical-align: top;\n",
       "    }\n",
       "\n",
       "    .dataframe thead th {\n",
       "        text-align: right;\n",
       "    }\n",
       "</style>\n",
       "<table border=\"1\" class=\"dataframe\">\n",
       "  <thead>\n",
       "    <tr style=\"text-align: right;\">\n",
       "      <th></th>\n",
       "      <th>time_limit</th>\n",
       "      <th>memory_limit</th>\n",
       "      <th>description</th>\n",
       "      <th>tags</th>\n",
       "      <th>language</th>\n",
       "    </tr>\n",
       "    <tr>\n",
       "      <th>Unnamed: 0</th>\n",
       "      <th></th>\n",
       "      <th></th>\n",
       "      <th></th>\n",
       "      <th></th>\n",
       "      <th></th>\n",
       "    </tr>\n",
       "  </thead>\n",
       "  <tbody>\n",
       "    <tr>\n",
       "      <th>1846/F</th>\n",
       "      <td>1.0</td>\n",
       "      <td>256.0</td>\n",
       "      <td>interactive task rudolph a scientist study ali...</td>\n",
       "      <td>['constructive algorithms', 'implementation', ...</td>\n",
       "      <td>en</td>\n",
       "    </tr>\n",
       "    <tr>\n",
       "      <th>1847/D</th>\n",
       "      <td>2.0</td>\n",
       "      <td>256.0</td>\n",
       "      <td>josuke tire peaceful life morioh follow nephew...</td>\n",
       "      <td>['data structures', 'dsu', 'greedy', 'implemen...</td>\n",
       "      <td>en</td>\n",
       "    </tr>\n",
       "    <tr>\n",
       "      <th>1846/E2</th>\n",
       "      <td>2.0</td>\n",
       "      <td>256.0</td>\n",
       "      <td>hard version problem difference version $$$ n ...</td>\n",
       "      <td>['binary search', 'brute force', 'data structu...</td>\n",
       "      <td>en</td>\n",
       "    </tr>\n",
       "    <tr>\n",
       "      <th>1846/E1</th>\n",
       "      <td>2.0</td>\n",
       "      <td>256.0</td>\n",
       "      <td>a simple version problem difference version $$...</td>\n",
       "      <td>['brute force', 'implementation', 'math']</td>\n",
       "      <td>en</td>\n",
       "    </tr>\n",
       "    <tr>\n",
       "      <th>1846/C</th>\n",
       "      <td>1.0</td>\n",
       "      <td>256.0</td>\n",
       "      <td>rudolf register a program competition follow r...</td>\n",
       "      <td>['constructive algorithms', 'greedy', 'impleme...</td>\n",
       "      <td>en</td>\n",
       "    </tr>\n",
       "  </tbody>\n",
       "</table>\n",
       "</div>"
      ],
      "text/plain": [
       "            time_limit  memory_limit  \\\n",
       "Unnamed: 0                             \n",
       "1846/F             1.0         256.0   \n",
       "1847/D             2.0         256.0   \n",
       "1846/E2            2.0         256.0   \n",
       "1846/E1            2.0         256.0   \n",
       "1846/C             1.0         256.0   \n",
       "\n",
       "                                                  description  \\\n",
       "Unnamed: 0                                                      \n",
       "1846/F      interactive task rudolph a scientist study ali...   \n",
       "1847/D      josuke tire peaceful life morioh follow nephew...   \n",
       "1846/E2     hard version problem difference version $$$ n ...   \n",
       "1846/E1     a simple version problem difference version $$...   \n",
       "1846/C      rudolf register a program competition follow r...   \n",
       "\n",
       "                                                         tags language  \n",
       "Unnamed: 0                                                              \n",
       "1846/F      ['constructive algorithms', 'implementation', ...       en  \n",
       "1847/D      ['data structures', 'dsu', 'greedy', 'implemen...       en  \n",
       "1846/E2     ['binary search', 'brute force', 'data structu...       en  \n",
       "1846/E1             ['brute force', 'implementation', 'math']       en  \n",
       "1846/C      ['constructive algorithms', 'greedy', 'impleme...       en  "
      ]
     },
     "execution_count": 56,
     "metadata": {},
     "output_type": "execute_result"
    }
   ],
   "source": [
    "df = pd.read_csv('../../data/codeforces_processed_data.csv', index_col=0, encoding='utf8')\n",
    "df.head()"
   ]
  },
  {
   "cell_type": "code",
   "execution_count": 57,
   "metadata": {},
   "outputs": [
    {
     "data": {
      "text/plain": [
       "(3249, 5)"
      ]
     },
     "execution_count": 57,
     "metadata": {},
     "output_type": "execute_result"
    }
   ],
   "source": [
    "filtered_df = df\n",
    "filtered_df['tags'] = df['tags'].apply(clean_tags)\n",
    "\n",
    "filtered_df = df[df['tags'].apply(valid_tags) & (df['language'] == 'en')]\n",
    "\n",
    "filtered_df.head()\n",
    "filtered_df.shape"
   ]
  },
  {
   "cell_type": "code",
   "execution_count": 58,
   "metadata": {},
   "outputs": [],
   "source": [
    "# Take just half of dataframe\n",
    "filtered_df, _ = train_test_split(filtered_df, test_size=0.5, random_state=42)\n",
    "\n",
    "filtered_df.to_csv('./data/CTP10/en_CTP10.csv')"
   ]
  },
  {
   "cell_type": "code",
   "execution_count": 50,
   "metadata": {},
   "outputs": [],
   "source": [
    "def show_tags(df):\n",
    "    tags = df['tags']\n",
    "    all_tags = [tag for sublist in tags for tag in sublist]\n",
    "    tag_counts = Counter(all_tags)\n",
    "    print(tag_counts)\n",
    "\n",
    "    top_tags = pd.DataFrame(tag_counts.most_common(10), columns=['tag', 'count'])\n",
    "    sns.barplot(x='count', y='tag', data=top_tags)\n",
    "    plt.title('Labels')\n",
    "    plt.xlabel('Frequency')\n",
    "    plt.ylabel('Tags')\n",
    "    plt.show()"
   ]
  },
  {
   "cell_type": "code",
   "execution_count": 42,
   "metadata": {},
   "outputs": [
    {
     "name": "stdout",
     "output_type": "stream",
     "text": [
      "Training set: 974 rows\n",
      "Validation set: 325 rows\n",
      "Test set: 325 rows\n"
     ]
    }
   ],
   "source": [
    "# Split into training and test sets\n",
    "train_df, test_df = train_test_split(filtered_df, test_size=0.2, random_state=42)\n",
    "\n",
    "\n",
    "# Split the training set into training and validation sets\n",
    "train_df, validation_df = train_test_split(train_df, test_size=0.25, random_state=42)  # 0.25 * 0.8 = 0.2\n",
    "\n",
    "# Print the number of rows in each set\n",
    "print(f\"Training set: {train_df.shape[0]} rows\")\n",
    "print(f\"Validation set: {validation_df.shape[0]} rows\")\n",
    "print(f\"Test set: {test_df.shape[0]} rows\")"
   ]
  },
  {
   "cell_type": "code",
   "execution_count": 51,
   "metadata": {},
   "outputs": [
    {
     "name": "stdout",
     "output_type": "stream",
     "text": [
      "Counter({'implementation': 716, 'greedy': 537, 'math': 494, 'bruteforce': 330, 'constructivealgorithms': 326, 'dp': 259, 'datastructures': 225, 'strings': 180, 'geometry': 91, 'dfsandsimilar': 35})\n"
     ]
    },
    {
     "data": {
      "image/png": "[encoded data removed]",
      "text/plain": [
       "<Figure size 640x480 with 1 Axes>"
      ]
     },
     "metadata": {},
     "output_type": "display_data"
    }
   ],
   "source": [
    "show_tags(filtered_df)"
   ]
  },
  {
   "cell_type": "code",
   "execution_count": null,
   "metadata": {},
   "outputs": [],
   "source": [
    "show_tags(train_df)\n",
    "show_tags(validation_df)\n",
    "show_tags(test_df)"
   ]
  },
  {
   "cell_type": "code",
   "execution_count": 52,
   "metadata": {},
   "outputs": [],
   "source": [
    "train_df.to_csv('./data/CTP10/train.csv')\n",
    "validation_df.to_csv('./data/CTP10/validation.csv')\n",
    "test_df.to_csv('./data/CTP10/test.csv')"
   ]
  }
 ],
 "metadata": {
  "kernelspec": {
   "display_name": "Python 3",
   "language": "python",
   "name": "python3"
  },
  "language_info": {
   "codemirror_mode": {
    "name": "ipython",
    "version": 3
   },
   "file_extension": ".py",
   "mimetype": "text/x-python",
   "name": "python",
   "nbconvert_exporter": "python",
   "pygments_lexer": "ipython3",
   "version": "3.12.4"
  }
 },
 "nbformat": 4,
 "nbformat_minor": 2
}

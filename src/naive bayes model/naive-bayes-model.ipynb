{
  "cells": [
    {
      "cell_type": "markdown",
      "source": [
        "# Multilabel Classification with TF-IDF and Naive Bayes\n",
        "\n",
        "This notebook demonstrates a multilabel text classification task using TF-IDF for feature extraction and Naive Bayes for classification. The dataset used is a CSV file with descriptions and tags.\n"
      ],
      "metadata": {
        "id": "P7cCBjZi1_Jl"
      }
    },
    {
      "cell_type": "markdown",
      "source": [
        "## Libraries and Dependencies"
      ],
      "metadata": {
        "id": "9-sWevYV4KuL"
      }
    },
    {
      "cell_type": "code",
      "source": [
        "import pandas as pd\n",
        "import torch\n",
        "import numpy as np\n",
        "from sklearn.feature_extraction.text import TfidfVectorizer\n",
        "from sklearn.preprocessing import MultiLabelBinarizer\n",
        "from sklearn.model_selection import train_test_split\n",
        "from sklearn.multiclass import OneVsRestClassifier\n",
        "from sklearn.naive_bayes import MultinomialNB\n",
        "from sklearn.metrics import accuracy_score, classification_report, confusion_matrix, precision_recall_curve, roc_curve, roc_auc_score"
      ],
      "metadata": {
        "id": "K9rlNCu97wOI"
      },
      "execution_count": 314,
      "outputs": []
    },
    {
      "cell_type": "markdown",
      "source": [
        "## Loading the Data\n",
        "Read the CSV file containing the data."
      ],
      "metadata": {
        "id": "md_sY9eV4flj"
      }
    },
    {
      "cell_type": "code",
      "source": [
        "df=pd.read_csv('codeforce_processed_cleaned_data_.csv')\n",
        "df.head()"
      ],
      "metadata": {
        "id": "6cVNzCsqF72N",
        "colab": {
          "base_uri": "https://localhost:8080/",
          "height": 556
        },
        "outputId": "fd3d2738-7d03-49f4-ce70-b7aadfb2edbf"
      },
      "execution_count": 348,
      "outputs": [
        {
          "output_type": "execute_result",
          "data": {
            "text/plain": [
              "   Unnamed: 0.1 Unnamed: 0 time_limit   memory_limit input_file output_file  \\\n",
              "0             0     1846/F   1 second  256 megabytes  standard    standard    \n",
              "1             1     1847/D  2 seconds  256 megabytes  standard    standard    \n",
              "2             2    1846/E2  2 seconds  256 megabytes  standard    standard    \n",
              "3             3    1846/E1  2 seconds  256 megabytes  standard    standard    \n",
              "4             4     1846/C   1 second  256 megabytes  standard    standard    \n",
              "\n",
              "                                         description  \\\n",
              "0  interactive task rudolph a scientist study ali...   \n",
              "1  josuke tire peaceful life morioh follow nephew...   \n",
              "2  hard version problem difference version $$$ n ...   \n",
              "3  a simple version problem difference version $$...   \n",
              "4  rudolf register a program competition follow r...   \n",
              "\n",
              "                                                tags language  \n",
              "0  ['constructive algorithms', 'implementation', ...       en  \n",
              "1  ['data structures', 'dsu', 'greedy', 'implemen...       en  \n",
              "2  ['binary search', 'brute force', 'data structu...       en  \n",
              "3          ['brute force', 'implementation', 'math']       en  \n",
              "4  ['constructive algorithms', 'greedy', 'impleme...       en  "
            ],
            "text/html": [
              "\n",
              "  <div id=\"df-a759807d-d0aa-4b88-ae8b-71d2f357a3b1\" class=\"colab-df-container\">\n",
              "    <div>\n",
              "<style scoped>\n",
              "    .dataframe tbody tr th:only-of-type {\n",
              "        vertical-align: middle;\n",
              "    }\n",
              "\n",
              "    .dataframe tbody tr th {\n",
              "        vertical-align: top;\n",
              "    }\n",
              "\n",
              "    .dataframe thead th {\n",
              "        text-align: right;\n",
              "    }\n",
              "</style>\n",
              "<table border=\"1\" class=\"dataframe\">\n",
              "  <thead>\n",
              "    <tr style=\"text-align: right;\">\n",
              "      <th></th>\n",
              "      <th>Unnamed: 0.1</th>\n",
              "      <th>Unnamed: 0</th>\n",
              "      <th>time_limit</th>\n",
              "      <th>memory_limit</th>\n",
              "      <th>input_file</th>\n",
              "      <th>output_file</th>\n",
              "      <th>description</th>\n",
              "      <th>tags</th>\n",
              "      <th>language</th>\n",
              "    </tr>\n",
              "  </thead>\n",
              "  <tbody>\n",
              "    <tr>\n",
              "      <th>0</th>\n",
              "      <td>0</td>\n",
              "      <td>1846/F</td>\n",
              "      <td>1 second</td>\n",
              "      <td>256 megabytes</td>\n",
              "      <td>standard</td>\n",
              "      <td>standard</td>\n",
              "      <td>interactive task rudolph a scientist study ali...</td>\n",
              "      <td>['constructive algorithms', 'implementation', ...</td>\n",
              "      <td>en</td>\n",
              "    </tr>\n",
              "    <tr>\n",
              "      <th>1</th>\n",
              "      <td>1</td>\n",
              "      <td>1847/D</td>\n",
              "      <td>2 seconds</td>\n",
              "      <td>256 megabytes</td>\n",
              "      <td>standard</td>\n",
              "      <td>standard</td>\n",
              "      <td>josuke tire peaceful life morioh follow nephew...</td>\n",
              "      <td>['data structures', 'dsu', 'greedy', 'implemen...</td>\n",
              "      <td>en</td>\n",
              "    </tr>\n",
              "    <tr>\n",
              "      <th>2</th>\n",
              "      <td>2</td>\n",
              "      <td>1846/E2</td>\n",
              "      <td>2 seconds</td>\n",
              "      <td>256 megabytes</td>\n",
              "      <td>standard</td>\n",
              "      <td>standard</td>\n",
              "      <td>hard version problem difference version $$$ n ...</td>\n",
              "      <td>['binary search', 'brute force', 'data structu...</td>\n",
              "      <td>en</td>\n",
              "    </tr>\n",
              "    <tr>\n",
              "      <th>3</th>\n",
              "      <td>3</td>\n",
              "      <td>1846/E1</td>\n",
              "      <td>2 seconds</td>\n",
              "      <td>256 megabytes</td>\n",
              "      <td>standard</td>\n",
              "      <td>standard</td>\n",
              "      <td>a simple version problem difference version $$...</td>\n",
              "      <td>['brute force', 'implementation', 'math']</td>\n",
              "      <td>en</td>\n",
              "    </tr>\n",
              "    <tr>\n",
              "      <th>4</th>\n",
              "      <td>4</td>\n",
              "      <td>1846/C</td>\n",
              "      <td>1 second</td>\n",
              "      <td>256 megabytes</td>\n",
              "      <td>standard</td>\n",
              "      <td>standard</td>\n",
              "      <td>rudolf register a program competition follow r...</td>\n",
              "      <td>['constructive algorithms', 'greedy', 'impleme...</td>\n",
              "      <td>en</td>\n",
              "    </tr>\n",
              "  </tbody>\n",
              "</table>\n",
              "</div>\n",
              "    <div class=\"colab-df-buttons\">\n",
              "\n",
              "  <div class=\"colab-df-container\">\n",
              "    <button class=\"colab-df-convert\" onclick=\"convertToInteractive('df-a759807d-d0aa-4b88-ae8b-71d2f357a3b1')\"\n",
              "            title=\"Convert this dataframe to an interactive table.\"\n",
              "            style=\"display:none;\">\n",
              "\n",
              "  <svg xmlns=\"http://www.w3.org/2000/svg\" height=\"24px\" viewBox=\"0 -960 960 960\">\n",
              "    <path d=\"M120-120v-720h720v720H120Zm60-500h600v-160H180v160Zm220 220h160v-160H400v160Zm0 220h160v-160H400v160ZM180-400h160v-160H180v160Zm440 0h160v-160H620v160ZM180-180h160v-160H180v160Zm440 0h160v-160H620v160Z\"/>\n",
              "  </svg>\n",
              "    </button>\n",
              "\n",
              "  <style>\n",
              "    .colab-df-container {\n",
              "      display:flex;\n",
              "      gap: 12px;\n",
              "    }\n",
              "\n",
              "    .colab-df-convert {\n",
              "      background-color: #E8F0FE;\n",
              "      border: none;\n",
              "      border-radius: 50%;\n",
              "      cursor: pointer;\n",
              "      display: none;\n",
              "      fill: #1967D2;\n",
              "      height: 32px;\n",
              "      padding: 0 0 0 0;\n",
              "      width: 32px;\n",
              "    }\n",
              "\n",
              "    .colab-df-convert:hover {\n",
              "      background-color: #E2EBFA;\n",
              "      box-shadow: 0px 1px 2px rgba(60, 64, 67, 0.3), 0px 1px 3px 1px rgba(60, 64, 67, 0.15);\n",
              "      fill: #174EA6;\n",
              "    }\n",
              "\n",
              "    .colab-df-buttons div {\n",
              "      margin-bottom: 4px;\n",
              "    }\n",
              "\n",
              "    [theme=dark] .colab-df-convert {\n",
              "      background-color: #3B4455;\n",
              "      fill: #D2E3FC;\n",
              "    }\n",
              "\n",
              "    [theme=dark] .colab-df-convert:hover {\n",
              "      background-color: #434B5C;\n",
              "      box-shadow: 0px 1px 3px 1px rgba(0, 0, 0, 0.15);\n",
              "      filter: drop-shadow(0px 1px 2px rgba(0, 0, 0, 0.3));\n",
              "      fill: #FFFFFF;\n",
              "    }\n",
              "  </style>\n",
              "\n",
              "    <script>\n",
              "      const buttonEl =\n",
              "        document.querySelector('#df-a759807d-d0aa-4b88-ae8b-71d2f357a3b1 button.colab-df-convert');\n",
              "      buttonEl.style.display =\n",
              "        google.colab.kernel.accessAllowed ? 'block' : 'none';\n",
              "\n",
              "      async function convertToInteractive(key) {\n",
              "        const element = document.querySelector('#df-a759807d-d0aa-4b88-ae8b-71d2f357a3b1');\n",
              "        const dataTable =\n",
              "          await google.colab.kernel.invokeFunction('convertToInteractive',\n",
              "                                                    [key], {});\n",
              "        if (!dataTable) return;\n",
              "\n",
              "        const docLinkHtml = 'Like what you see? Visit the ' +\n",
              "          '<a target=\"_blank\" href=https://colab.research.google.com/notebooks/data_table.ipynb>data table notebook</a>'\n",
              "          + ' to learn more about interactive tables.';\n",
              "        element.innerHTML = '';\n",
              "        dataTable['output_type'] = 'display_data';\n",
              "        await google.colab.output.renderOutput(dataTable, element);\n",
              "        const docLink = document.createElement('div');\n",
              "        docLink.innerHTML = docLinkHtml;\n",
              "        element.appendChild(docLink);\n",
              "      }\n",
              "    </script>\n",
              "  </div>\n",
              "\n",
              "\n",
              "<div id=\"df-81250d4f-88f0-4484-9273-906141572649\">\n",
              "  <button class=\"colab-df-quickchart\" onclick=\"quickchart('df-81250d4f-88f0-4484-9273-906141572649')\"\n",
              "            title=\"Suggest charts\"\n",
              "            style=\"display:none;\">\n",
              "\n",
              "<svg xmlns=\"http://www.w3.org/2000/svg\" height=\"24px\"viewBox=\"0 0 24 24\"\n",
              "     width=\"24px\">\n",
              "    <g>\n",
              "        <path d=\"M19 3H5c-1.1 0-2 .9-2 2v14c0 1.1.9 2 2 2h14c1.1 0 2-.9 2-2V5c0-1.1-.9-2-2-2zM9 17H7v-7h2v7zm4 0h-2V7h2v10zm4 0h-2v-4h2v4z\"/>\n",
              "    </g>\n",
              "</svg>\n",
              "  </button>\n",
              "\n",
              "<style>\n",
              "  .colab-df-quickchart {\n",
              "      --bg-color: #E8F0FE;\n",
              "      --fill-color: #1967D2;\n",
              "      --hover-bg-color: #E2EBFA;\n",
              "      --hover-fill-color: #174EA6;\n",
              "      --disabled-fill-color: #AAA;\n",
              "      --disabled-bg-color: #DDD;\n",
              "  }\n",
              "\n",
              "  [theme=dark] .colab-df-quickchart {\n",
              "      --bg-color: #3B4455;\n",
              "      --fill-color: #D2E3FC;\n",
              "      --hover-bg-color: #434B5C;\n",
              "      --hover-fill-color: #FFFFFF;\n",
              "      --disabled-bg-color: #3B4455;\n",
              "      --disabled-fill-color: #666;\n",
              "  }\n",
              "\n",
              "  .colab-df-quickchart {\n",
              "    background-color: var(--bg-color);\n",
              "    border: none;\n",
              "    border-radius: 50%;\n",
              "    cursor: pointer;\n",
              "    display: none;\n",
              "    fill: var(--fill-color);\n",
              "    height: 32px;\n",
              "    padding: 0;\n",
              "    width: 32px;\n",
              "  }\n",
              "\n",
              "  .colab-df-quickchart:hover {\n",
              "    background-color: var(--hover-bg-color);\n",
              "    box-shadow: 0 1px 2px rgba(60, 64, 67, 0.3), 0 1px 3px 1px rgba(60, 64, 67, 0.15);\n",
              "    fill: var(--button-hover-fill-color);\n",
              "  }\n",
              "\n",
              "  .colab-df-quickchart-complete:disabled,\n",
              "  .colab-df-quickchart-complete:disabled:hover {\n",
              "    background-color: var(--disabled-bg-color);\n",
              "    fill: var(--disabled-fill-color);\n",
              "    box-shadow: none;\n",
              "  }\n",
              "\n",
              "  .colab-df-spinner {\n",
              "    border: 2px solid var(--fill-color);\n",
              "    border-color: transparent;\n",
              "    border-bottom-color: var(--fill-color);\n",
              "    animation:\n",
              "      spin 1s steps(1) infinite;\n",
              "  }\n",
              "\n",
              "  @keyframes spin {\n",
              "    0% {\n",
              "      border-color: transparent;\n",
              "      border-bottom-color: var(--fill-color);\n",
              "      border-left-color: var(--fill-color);\n",
              "    }\n",
              "    20% {\n",
              "      border-color: transparent;\n",
              "      border-left-color: var(--fill-color);\n",
              "      border-top-color: var(--fill-color);\n",
              "    }\n",
              "    30% {\n",
              "      border-color: transparent;\n",
              "      border-left-color: var(--fill-color);\n",
              "      border-top-color: var(--fill-color);\n",
              "      border-right-color: var(--fill-color);\n",
              "    }\n",
              "    40% {\n",
              "      border-color: transparent;\n",
              "      border-right-color: var(--fill-color);\n",
              "      border-top-color: var(--fill-color);\n",
              "    }\n",
              "    60% {\n",
              "      border-color: transparent;\n",
              "      border-right-color: var(--fill-color);\n",
              "    }\n",
              "    80% {\n",
              "      border-color: transparent;\n",
              "      border-right-color: var(--fill-color);\n",
              "      border-bottom-color: var(--fill-color);\n",
              "    }\n",
              "    90% {\n",
              "      border-color: transparent;\n",
              "      border-bottom-color: var(--fill-color);\n",
              "    }\n",
              "  }\n",
              "</style>\n",
              "\n",
              "  <script>\n",
              "    async function quickchart(key) {\n",
              "      const quickchartButtonEl =\n",
              "        document.querySelector('#' + key + ' button');\n",
              "      quickchartButtonEl.disabled = true;  // To prevent multiple clicks.\n",
              "      quickchartButtonEl.classList.add('colab-df-spinner');\n",
              "      try {\n",
              "        const charts = await google.colab.kernel.invokeFunction(\n",
              "            'suggestCharts', [key], {});\n",
              "      } catch (error) {\n",
              "        console.error('Error during call to suggestCharts:', error);\n",
              "      }\n",
              "      quickchartButtonEl.classList.remove('colab-df-spinner');\n",
              "      quickchartButtonEl.classList.add('colab-df-quickchart-complete');\n",
              "    }\n",
              "    (() => {\n",
              "      let quickchartButtonEl =\n",
              "        document.querySelector('#df-81250d4f-88f0-4484-9273-906141572649 button');\n",
              "      quickchartButtonEl.style.display =\n",
              "        google.colab.kernel.accessAllowed ? 'block' : 'none';\n",
              "    })();\n",
              "  </script>\n",
              "</div>\n",
              "\n",
              "    </div>\n",
              "  </div>\n"
            ],
            "application/vnd.google.colaboratory.intrinsic+json": {
              "type": "dataframe",
              "variable_name": "df",
              "summary": "{\n  \"name\": \"df\",\n  \"rows\": 7950,\n  \"fields\": [\n    {\n      \"column\": \"Unnamed: 0.1\",\n      \"properties\": {\n        \"dtype\": \"number\",\n        \"std\": 2300,\n        \"min\": 0,\n        \"max\": 7967,\n        \"num_unique_values\": 7950,\n        \"samples\": [\n          1167,\n          2289,\n          3311\n        ],\n        \"semantic_type\": \"\",\n        \"description\": \"\"\n      }\n    },\n    {\n      \"column\": \"Unnamed: 0\",\n      \"properties\": {\n        \"dtype\": \"string\",\n        \"num_unique_values\": 7950,\n        \"samples\": [\n          \"919/C\",\n          \"62/C\",\n          \"1269/A\"\n        ],\n        \"semantic_type\": \"\",\n        \"description\": \"\"\n      }\n    },\n    {\n      \"column\": \"time_limit\",\n      \"properties\": {\n        \"dtype\": \"category\",\n        \"num_unique_values\": 28,\n        \"samples\": [\n          \"1.5 seconds\",\n          \"7.5 seconds\",\n          \"3.5 seconds\"\n        ],\n        \"semantic_type\": \"\",\n        \"description\": \"\"\n      }\n    },\n    {\n      \"column\": \"memory_limit\",\n      \"properties\": {\n        \"dtype\": \"category\",\n        \"num_unique_values\": 19,\n        \"samples\": [\n          \"256 megabytes\",\n          \"64 megabytes\",\n          \"768 megabytes\"\n        ],\n        \"semantic_type\": \"\",\n        \"description\": \"\"\n      }\n    },\n    {\n      \"column\": \"input_file\",\n      \"properties\": {\n        \"dtype\": \"category\",\n        \"num_unique_values\": 2,\n        \"samples\": [\n          \".txt\",\n          \"standard \"\n        ],\n        \"semantic_type\": \"\",\n        \"description\": \"\"\n      }\n    },\n    {\n      \"column\": \"output_file\",\n      \"properties\": {\n        \"dtype\": \"category\",\n        \"num_unique_values\": 2,\n        \"samples\": [\n          \".txt\",\n          \"standard \"\n        ],\n        \"semantic_type\": \"\",\n        \"description\": \"\"\n      }\n    },\n    {\n      \"column\": \"description\",\n      \"properties\": {\n        \"dtype\": \"string\",\n        \"num_unique_values\": 7949,\n        \"samples\": [\n          \"suppose a campus go class day day may see hurry a classroom surprisingly find many seat already occupy today friends go class find seat occupy classroom contain $$$ n $$$ row seat $$$ m $$$ seat row classroom represent $$$ n \\\\times m $$$ matrix character ' . ' represent empty seat ' * ' mean seat occupy need find $$$ k $$$ consecutive empty seat row column arrange seat friends task find number ways arrange seat two ways consider different set place students occupy differ first line contain three positive integers $$$ n m k $$$ ( $$$ 1 \\\\leq n m k \\\\leq 2\\\\,000 $$$ ) $$$ n m $$$ represent size classroom $$$ k $$$ number consecutive seat need find next $$$ n $$$ line contain $$$ m $$$ character ' . ' ' * ' form a matrix represent classroom ' . ' denote empty seat ' * ' denote occupy seat a single number denote number ways find $$$ k $$$ empty seat row column first sample three ways arrange seat take follow seat arrangement\",\n          \"medieval time exist tradition burn witch steaks together pet black cat end 15 - th century population black cat cease exist difficulty situation lead create eic - emergency inquisitory commission resolution # 666 say a white cat consider black perimeter black spot exceed acceptable norm acceptable norm equal ? every inquisitor choose depend situation task find perimeter black spot cat 's fur resolution say cat 's fur a white square length 105 . measurement spot customary put lower leave corner fur origin ax ( 0 ; 0 ) upper right one \\u2014 point coordinate ( 105 ; 105 ) cat ' spot nondegenerate triangles spot intersect overlap guarantee pair triangular spot ' side one common point 'll regard perimeter problem total length boarders a cat 's fur change color first input line contain a single integer n ( 0 \\u2264 n \\u2264 100 ) number spot cat 's fur i - th last n line contain 6 integers : x1i y1i x2i y2i x3i y3i coordinate i - th triangular spot ( 0 < xji yji < 105 ) print a single number answer problem perimeter union triangles answer differ correct one 10 - 6\"\n        ],\n        \"semantic_type\": \"\",\n        \"description\": \"\"\n      }\n    },\n    {\n      \"column\": \"tags\",\n      \"properties\": {\n        \"dtype\": \"category\",\n        \"num_unique_values\": 2566,\n        \"samples\": [\n          \"['binary search', 'combinatorics', 'dp', 'math', 'number theory', 'sortings']\",\n          \"['brute force', 'data structures', 'number theory', 'two pointers']\"\n        ],\n        \"semantic_type\": \"\",\n        \"description\": \"\"\n      }\n    },\n    {\n      \"column\": \"language\",\n      \"properties\": {\n        \"dtype\": \"category\",\n        \"num_unique_values\": 1,\n        \"samples\": [\n          \"en\"\n        ],\n        \"semantic_type\": \"\",\n        \"description\": \"\"\n      }\n    }\n  ]\n}"
            }
          },
          "metadata": {},
          "execution_count": 348
        }
      ]
    },
    {
      "cell_type": "markdown",
      "source": [
        "## TF-IDF Vectorization\n",
        "Use `TfidfVectorizer` to convert the text descriptions into numerical features."
      ],
      "metadata": {
        "id": "zy9S7UeW5AQg"
      }
    },
    {
      "cell_type": "code",
      "source": [
        "vectorizer = TfidfVectorizer(max_features=1000)\n",
        "X = vectorizer.fit_transform(df['description'])\n",
        "X.shape"
      ],
      "metadata": {
        "colab": {
          "base_uri": "https://localhost:8080/"
        },
        "id": "EXv15x_c4u0Y",
        "outputId": "458e71a1-1102-4303-d332-fb00a79554fe"
      },
      "execution_count": 349,
      "outputs": [
        {
          "output_type": "execute_result",
          "data": {
            "text/plain": [
              "(7950, 1000)"
            ]
          },
          "metadata": {},
          "execution_count": 349
        }
      ]
    },
    {
      "cell_type": "markdown",
      "source": [
        "## Preprocessing the Tags\n",
        "Convert the `tags` column from strings to lists."
      ],
      "metadata": {
        "id": "y40JpJ8t5Rtq"
      }
    },
    {
      "cell_type": "code",
      "source": [
        "import ast\n",
        "\n",
        "tags = df['tags'].tolist()\n",
        "for i in range(len(tags)):\n",
        "    tags[i] = str(tags[i])\n",
        "\n",
        "df['tags'] = [ast.literal_eval(tag) for tag in tags]"
      ],
      "metadata": {
        "id": "kR5Bz_ZYGbCz"
      },
      "execution_count": 350,
      "outputs": []
    },
    {
      "cell_type": "markdown",
      "source": [
        "## Binarizing the Tags\n",
        "Use `MultiLabelBinarizer` to convert the tags into a binary format."
      ],
      "metadata": {
        "id": "J7VNNgv75qMb"
      }
    },
    {
      "cell_type": "code",
      "source": [
        "mlb = MultiLabelBinarizer()\n",
        "y = mlb.fit_transform(df['tags'])"
      ],
      "metadata": {
        "id": "8qfgagjf5nLF"
      },
      "execution_count": 351,
      "outputs": []
    },
    {
      "cell_type": "markdown",
      "source": [
        "## Train-Test Split\n",
        "Split the data into training and testing sets."
      ],
      "metadata": {
        "id": "rTx3FmG05gV9"
      }
    },
    {
      "cell_type": "code",
      "source": [
        "X_train, X_test, y_train, y_test = train_test_split(X, y, test_size=0.2, random_state=42)"
      ],
      "metadata": {
        "id": "Dt667eE6Ze4N"
      },
      "execution_count": 352,
      "outputs": []
    },
    {
      "cell_type": "markdown",
      "source": [
        "## Model Training\n",
        "Train a `MultinomialNB` classifier using `OneVsRestClassifier`."
      ],
      "metadata": {
        "id": "-BCAE4uu6Gu1"
      }
    },
    {
      "cell_type": "code",
      "source": [
        "nb= MultinomialNB()\n",
        "\n",
        "classifier = OneVsRestClassifier(nb)\n",
        "classifier.fit(X_train, y_train)"
      ],
      "metadata": {
        "colab": {
          "base_uri": "https://localhost:8080/",
          "height": 118
        },
        "id": "bevh-hFdGqs-",
        "outputId": "76721f18-a7b3-41b5-d317-245a303bc9d8"
      },
      "execution_count": 353,
      "outputs": [
        {
          "output_type": "execute_result",
          "data": {
            "text/plain": [
              "OneVsRestClassifier(estimator=MultinomialNB())"
            ],
            "text/html": [
              "<style>#sk-container-id-27 {color: black;background-color: white;}#sk-container-id-27 pre{padding: 0;}#sk-container-id-27 div.sk-toggleable {background-color: white;}#sk-container-id-27 label.sk-toggleable__label {cursor: pointer;display: block;width: 100%;margin-bottom: 0;padding: 0.3em;box-sizing: border-box;text-align: center;}#sk-container-id-27 label.sk-toggleable__label-arrow:before {content: \"▸\";float: left;margin-right: 0.25em;color: #696969;}#sk-container-id-27 label.sk-toggleable__label-arrow:hover:before {color: black;}#sk-container-id-27 div.sk-estimator:hover label.sk-toggleable__label-arrow:before {color: black;}#sk-container-id-27 div.sk-toggleable__content {max-height: 0;max-width: 0;overflow: hidden;text-align: left;background-color: #f0f8ff;}#sk-container-id-27 div.sk-toggleable__content pre {margin: 0.2em;color: black;border-radius: 0.25em;background-color: #f0f8ff;}#sk-container-id-27 input.sk-toggleable__control:checked~div.sk-toggleable__content {max-height: 200px;max-width: 100%;overflow: auto;}#sk-container-id-27 input.sk-toggleable__control:checked~label.sk-toggleable__label-arrow:before {content: \"▾\";}#sk-container-id-27 div.sk-estimator input.sk-toggleable__control:checked~label.sk-toggleable__label {background-color: #d4ebff;}#sk-container-id-27 div.sk-label input.sk-toggleable__control:checked~label.sk-toggleable__label {background-color: #d4ebff;}#sk-container-id-27 input.sk-hidden--visually {border: 0;clip: rect(1px 1px 1px 1px);clip: rect(1px, 1px, 1px, 1px);height: 1px;margin: -1px;overflow: hidden;padding: 0;position: absolute;width: 1px;}#sk-container-id-27 div.sk-estimator {font-family: monospace;background-color: #f0f8ff;border: 1px dotted black;border-radius: 0.25em;box-sizing: border-box;margin-bottom: 0.5em;}#sk-container-id-27 div.sk-estimator:hover {background-color: #d4ebff;}#sk-container-id-27 div.sk-parallel-item::after {content: \"\";width: 100%;border-bottom: 1px solid gray;flex-grow: 1;}#sk-container-id-27 div.sk-label:hover label.sk-toggleable__label {background-color: #d4ebff;}#sk-container-id-27 div.sk-serial::before {content: \"\";position: absolute;border-left: 1px solid gray;box-sizing: border-box;top: 0;bottom: 0;left: 50%;z-index: 0;}#sk-container-id-27 div.sk-serial {display: flex;flex-direction: column;align-items: center;background-color: white;padding-right: 0.2em;padding-left: 0.2em;position: relative;}#sk-container-id-27 div.sk-item {position: relative;z-index: 1;}#sk-container-id-27 div.sk-parallel {display: flex;align-items: stretch;justify-content: center;background-color: white;position: relative;}#sk-container-id-27 div.sk-item::before, #sk-container-id-27 div.sk-parallel-item::before {content: \"\";position: absolute;border-left: 1px solid gray;box-sizing: border-box;top: 0;bottom: 0;left: 50%;z-index: -1;}#sk-container-id-27 div.sk-parallel-item {display: flex;flex-direction: column;z-index: 1;position: relative;background-color: white;}#sk-container-id-27 div.sk-parallel-item:first-child::after {align-self: flex-end;width: 50%;}#sk-container-id-27 div.sk-parallel-item:last-child::after {align-self: flex-start;width: 50%;}#sk-container-id-27 div.sk-parallel-item:only-child::after {width: 0;}#sk-container-id-27 div.sk-dashed-wrapped {border: 1px dashed gray;margin: 0 0.4em 0.5em 0.4em;box-sizing: border-box;padding-bottom: 0.4em;background-color: white;}#sk-container-id-27 div.sk-label label {font-family: monospace;font-weight: bold;display: inline-block;line-height: 1.2em;}#sk-container-id-27 div.sk-label-container {text-align: center;}#sk-container-id-27 div.sk-container {/* jupyter's `normalize.less` sets `[hidden] { display: none; }` but bootstrap.min.css set `[hidden] { display: none !important; }` so we also need the `!important` here to be able to override the default hidden behavior on the sphinx rendered scikit-learn.org. See: https://github.com/scikit-learn/scikit-learn/issues/21755 */display: inline-block !important;position: relative;}#sk-container-id-27 div.sk-text-repr-fallback {display: none;}</style><div id=\"sk-container-id-27\" class=\"sk-top-container\"><div class=\"sk-text-repr-fallback\"><pre>OneVsRestClassifier(estimator=MultinomialNB())</pre><b>In a Jupyter environment, please rerun this cell to show the HTML representation or trust the notebook. <br />On GitHub, the HTML representation is unable to render, please try loading this page with nbviewer.org.</b></div><div class=\"sk-container\" hidden><div class=\"sk-item sk-dashed-wrapped\"><div class=\"sk-label-container\"><div class=\"sk-label sk-toggleable\"><input class=\"sk-toggleable__control sk-hidden--visually\" id=\"sk-estimator-id-79\" type=\"checkbox\" ><label for=\"sk-estimator-id-79\" class=\"sk-toggleable__label sk-toggleable__label-arrow\">OneVsRestClassifier</label><div class=\"sk-toggleable__content\"><pre>OneVsRestClassifier(estimator=MultinomialNB())</pre></div></div></div><div class=\"sk-parallel\"><div class=\"sk-parallel-item\"><div class=\"sk-item\"><div class=\"sk-label-container\"><div class=\"sk-label sk-toggleable\"><input class=\"sk-toggleable__control sk-hidden--visually\" id=\"sk-estimator-id-80\" type=\"checkbox\" ><label for=\"sk-estimator-id-80\" class=\"sk-toggleable__label sk-toggleable__label-arrow\">estimator: MultinomialNB</label><div class=\"sk-toggleable__content\"><pre>MultinomialNB()</pre></div></div></div><div class=\"sk-serial\"><div class=\"sk-item\"><div class=\"sk-estimator sk-toggleable\"><input class=\"sk-toggleable__control sk-hidden--visually\" id=\"sk-estimator-id-81\" type=\"checkbox\" ><label for=\"sk-estimator-id-81\" class=\"sk-toggleable__label sk-toggleable__label-arrow\">MultinomialNB</label><div class=\"sk-toggleable__content\"><pre>MultinomialNB()</pre></div></div></div></div></div></div></div></div></div></div>"
            ]
          },
          "metadata": {},
          "execution_count": 353
        }
      ]
    },
    {
      "cell_type": "markdown",
      "source": [
        "## Predictions\n",
        "Make predictions on the test set."
      ],
      "metadata": {
        "id": "LvVn1Al76W2u"
      }
    },
    {
      "cell_type": "code",
      "source": [
        "y_pred = classifier.predict(X_test)\n",
        "y_pred_prob = classifier.predict_proba(X_test)"
      ],
      "metadata": {
        "id": "o6PY9eXWGuIf"
      },
      "execution_count": 354,
      "outputs": []
    },
    {
      "cell_type": "markdown",
      "source": [
        "Ensure that each text has at least one tag predicted."
      ],
      "metadata": {
        "id": "l5oX6gBu6ggT"
      }
    },
    {
      "cell_type": "code",
      "source": [
        "for i in range(y_pred.shape[0]):\n",
        "    if not y_pred[i].any():\n",
        "        # Assign the most probable tag\n",
        "        y_pred[i, np.argmax(classifier.predict_proba(X_test[i]))] = 1"
      ],
      "metadata": {
        "id": "CJDS3DuclqIq"
      },
      "execution_count": 355,
      "outputs": []
    },
    {
      "cell_type": "markdown",
      "source": [
        "## Evaluation\n",
        "Evaluate the model using various metrics."
      ],
      "metadata": {
        "id": "Gha0SrHI6rEl"
      }
    },
    {
      "cell_type": "code",
      "source": [
        "print(classification_report(y_test, y_pred, target_names=mlb.classes_))"
      ],
      "metadata": {
        "colab": {
          "base_uri": "https://localhost:8080/"
        },
        "id": "IS_jlzNgG04X",
        "outputId": "5ebe9fc3-b5b0-4e32-c47b-00e1d9887836"
      },
      "execution_count": 356,
      "outputs": [
        {
          "output_type": "stream",
          "name": "stdout",
          "text": [
            "                           precision    recall  f1-score   support\n",
            "\n",
            "                 *special       0.00      0.00      0.00        47\n",
            "                    2-sat       0.00      0.00      0.00         3\n",
            "            binary search       1.00      0.01      0.01       175\n",
            "                 bitmasks       1.00      0.02      0.04        91\n",
            "              brute force       0.00      0.00      0.00       242\n",
            "chinese remainder theorem       0.00      0.00      0.00         3\n",
            "            combinatorics       0.67      0.02      0.04       106\n",
            "  constructive algorithms       0.77      0.08      0.15       289\n",
            "          data structures       0.67      0.13      0.22       286\n",
            "          dfs and similar       0.54      0.36      0.43       146\n",
            "       divide and conquer       0.00      0.00      0.00        33\n",
            "                       dp       0.38      0.05      0.09       320\n",
            "                      dsu       0.00      0.00      0.00        68\n",
            "       expression parsing       0.00      0.00      0.00         8\n",
            "                      fft       0.00      0.00      0.00        13\n",
            "                    flows       0.00      0.00      0.00        19\n",
            "                    games       1.00      0.17      0.29        35\n",
            "                 geometry       0.56      0.43      0.49        58\n",
            "          graph matchings       0.00      0.00      0.00        18\n",
            "                   graphs       0.50      0.42      0.46       160\n",
            "                   greedy       0.55      0.40      0.46       466\n",
            "                  hashing       0.00      0.00      0.00        36\n",
            "           implementation       0.51      0.50      0.51       509\n",
            "              interactive       1.00      0.32      0.48        38\n",
            "                     math       0.55      0.45      0.50       480\n",
            "                 matrices       0.00      0.00      0.00        19\n",
            "       meet-in-the-middle       0.00      0.00      0.00         6\n",
            "            number theory       0.92      0.08      0.15       137\n",
            "            probabilities       0.00      0.00      0.00        37\n",
            "                schedules       0.00      0.00      0.00         3\n",
            "           shortest paths       0.00      0.00      0.00        51\n",
            "                 sortings       0.00      0.00      0.00       167\n",
            " string suffix structures       0.00      0.00      0.00        12\n",
            "                  strings       0.67      0.54      0.60       126\n",
            "           ternary search       0.00      0.00      0.00        10\n",
            "                    trees       0.69      0.55      0.61       139\n",
            "             two pointers       0.00      0.00      0.00        89\n",
            "\n",
            "                micro avg       0.56      0.24      0.33      4445\n",
            "                macro avg       0.32      0.12      0.15      4445\n",
            "             weighted avg       0.50      0.24      0.28      4445\n",
            "              samples avg       0.55      0.27      0.34      4445\n",
            "\n"
          ]
        },
        {
          "output_type": "stream",
          "name": "stderr",
          "text": [
            "/usr/local/lib/python3.10/dist-packages/sklearn/metrics/_classification.py:1344: UndefinedMetricWarning: Precision and F-score are ill-defined and being set to 0.0 in labels with no predicted samples. Use `zero_division` parameter to control this behavior.\n",
            "  _warn_prf(average, modifier, msg_start, len(result))\n"
          ]
        }
      ]
    },
    {
      "cell_type": "code",
      "source": [
        "accuracy = accuracy_score(y_test, y_pred)\n",
        "print(f\"Overall Accuracy: {accuracy * 100:.2f}%\")\n",
        "\n",
        "class_accuracies = {}\n",
        "for i, class_name in enumerate(mlb.classes_):\n",
        "    class_accuracy = accuracy_score(y_test[:, i], y_pred[:, i])\n",
        "    class_accuracies[class_name] = class_accuracy\n",
        "\n",
        "# Print accuracy for each class\n",
        "print(\"Accuracy for each class:\")\n",
        "for class_name, class_accuracy in class_accuracies.items():\n",
        "    print(f\"{class_name}: {class_accuracy * 100:.2f}%\")"
      ],
      "metadata": {
        "colab": {
          "base_uri": "https://localhost:8080/"
        },
        "id": "sJqPeRNII0I_",
        "outputId": "2b17685d-c464-4bda-a5b5-45b1f1a0feb4"
      },
      "execution_count": 357,
      "outputs": [
        {
          "output_type": "stream",
          "name": "stdout",
          "text": [
            "Overall Accuracy: 7.61%\n",
            "Accuracy for each class:\n",
            "*special: 97.04%\n",
            "2-sat: 99.81%\n",
            "binary search: 89.06%\n",
            "bitmasks: 94.40%\n",
            "brute force: 84.72%\n",
            "chinese remainder theorem: 99.81%\n",
            "combinatorics: 93.40%\n",
            "constructive algorithms: 82.89%\n",
            "data structures: 83.21%\n",
            "dfs and similar: 91.32%\n",
            "divide and conquer: 97.92%\n",
            "dp: 79.25%\n",
            "dsu: 95.72%\n",
            "expression parsing: 99.50%\n",
            "fft: 99.18%\n",
            "flows: 98.81%\n",
            "games: 98.18%\n",
            "geometry: 96.67%\n",
            "graph matchings: 98.87%\n",
            "graphs: 89.94%\n",
            "greedy: 72.64%\n",
            "hashing: 97.74%\n",
            "implementation: 68.62%\n",
            "interactive: 98.36%\n",
            "math: 72.45%\n",
            "matrices: 98.81%\n",
            "meet-in-the-middle: 99.62%\n",
            "number theory: 92.01%\n",
            "probabilities: 97.67%\n",
            "schedules: 99.81%\n",
            "shortest paths: 96.79%\n",
            "sortings: 89.50%\n",
            "string suffix structures: 99.25%\n",
            "strings: 94.21%\n",
            "ternary search: 99.37%\n",
            "trees: 93.90%\n",
            "two pointers: 94.40%\n"
          ]
        }
      ]
    }
  ],
  "metadata": {
    "kernelspec": {
      "display_name": "Python 3",
      "language": "python",
      "name": "python3"
    },
    "language_info": {
      "codemirror_mode": {
        "name": "ipython",
        "version": 3
      },
      "file_extension": ".py",
      "mimetype": "text/x-python",
      "name": "python",
      "nbconvert_exporter": "python",
      "pygments_lexer": "ipython3",
      "version": "3.10.6"
    },
    "colab": {
      "provenance": []
    }
  },
  "nbformat": 4,
  "nbformat_minor": 0
}
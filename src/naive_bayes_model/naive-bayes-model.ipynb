{
  "cells": [
    {
      "cell_type": "markdown",
      "metadata": {
        "id": "P7cCBjZi1_Jl"
      },
      "source": [
        "# Multilabel Classification with TF-IDF and Naive Bayes\n",
        "\n",
        "This notebook demonstrates a multilabel text classification task using TF-IDF for feature extraction and Naive Bayes for classification. The dataset used is a CSV file with descriptions and tags.\n"
      ]
    },
    {
      "cell_type": "markdown",
      "metadata": {
        "id": "9-sWevYV4KuL"
      },
      "source": [
        "## Libraries and Dependencies"
      ]
    },
    {
      "cell_type": "code",
      "execution_count": 32,
      "metadata": {
        "id": "K9rlNCu97wOI"
      },
      "outputs": [],
      "source": [
        "import pandas as pd\n",
        "import copy\n",
        "import torch\n",
        "import numpy as np\n",
        "from sklearn.feature_extraction.text import TfidfVectorizer\n",
        "from sklearn.preprocessing import MultiLabelBinarizer\n",
        "from sklearn.model_selection import train_test_split\n",
        "from sklearn.multiclass import OneVsRestClassifier\n",
        "from sklearn.naive_bayes import MultinomialNB\n",
        "from sklearn.metrics import f1_score,accuracy_score, classification_report, confusion_matrix, precision_recall_curve, roc_curve, roc_auc_score"
      ]
    },
    {
      "cell_type": "markdown",
      "metadata": {
        "id": "md_sY9eV4flj"
      },
      "source": [
        "## Loading the Data\n",
        "Read the CSV file containing the data."
      ]
    },
    {
      "cell_type": "code",
      "execution_count": 33,
      "metadata": {
        "colab": {
          "base_uri": "https://localhost:8080/",
          "height": 380
        },
        "id": "6cVNzCsqF72N",
        "outputId": "6d9ebc80-5f62-4d4c-d797-d0307e6d584a"
      },
      "outputs": [
        {
          "data": {
            "text/html": [
              "<div>\n",
              "<style scoped>\n",
              "    .dataframe tbody tr th:only-of-type {\n",
              "        vertical-align: middle;\n",
              "    }\n",
              "\n",
              "    .dataframe tbody tr th {\n",
              "        vertical-align: top;\n",
              "    }\n",
              "\n",
              "    .dataframe thead th {\n",
              "        text-align: right;\n",
              "    }\n",
              "</style>\n",
              "<table border=\"1\" class=\"dataframe\">\n",
              "  <thead>\n",
              "    <tr style=\"text-align: right;\">\n",
              "      <th></th>\n",
              "      <th>Unnamed: 0</th>\n",
              "      <th>time_limit</th>\n",
              "      <th>memory_limit</th>\n",
              "      <th>description</th>\n",
              "      <th>tags</th>\n",
              "      <th>language</th>\n",
              "      <th>tokenized_description</th>\n",
              "    </tr>\n",
              "  </thead>\n",
              "  <tbody>\n",
              "    <tr>\n",
              "      <th>0</th>\n",
              "      <td>1616/E</td>\n",
              "      <td>1.0</td>\n",
              "      <td>256.0</td>\n",
              "      <td>give two string $$$ s $$$ $$$ t $$$ equal leng...</td>\n",
              "      <td>['bruteforce', 'datastructures', 'greedy', 'st...</td>\n",
              "      <td>en</td>\n",
              "      <td>[0, 26650, 80, 6755, 68, 42654, 579, 68, 42654...</td>\n",
              "    </tr>\n",
              "    <tr>\n",
              "      <th>1</th>\n",
              "      <td>900/A</td>\n",
              "      <td>1.0</td>\n",
              "      <td>256.0</td>\n",
              "      <td>n distinct point a plane none lie oy axis chec...</td>\n",
              "      <td>['geometry', 'implementation']</td>\n",
              "      <td>en</td>\n",
              "      <td>[0, 282, 11693, 477, 10, 3286, 4146, 6105, 231...</td>\n",
              "    </tr>\n",
              "    <tr>\n",
              "      <th>2</th>\n",
              "      <td>702/F</td>\n",
              "      <td>4.0</td>\n",
              "      <td>1024.0</td>\n",
              "      <td>big consignment t - shirts go sale shop begin ...</td>\n",
              "      <td>['datastructures']</td>\n",
              "      <td>en</td>\n",
              "      <td>[0, 8527, 7407, 15645, 326, 111, 15331, 213, 1...</td>\n",
              "    </tr>\n",
              "    <tr>\n",
              "      <th>3</th>\n",
              "      <td>181/A</td>\n",
              "      <td>2.0</td>\n",
              "      <td>256.0</td>\n",
              "      <td>berland capital shake three bold crimes commit...</td>\n",
              "      <td>['bruteforce', 'geometry', 'implementation']</td>\n",
              "      <td>en</td>\n",
              "      <td>[0, 1943, 1245, 812, 8559, 130, 7457, 3474, 62...</td>\n",
              "    </tr>\n",
              "    <tr>\n",
              "      <th>4</th>\n",
              "      <td>1352/A</td>\n",
              "      <td>1.0</td>\n",
              "      <td>256.0</td>\n",
              "      <td>a positive ( strictly greater zero ) integer c...</td>\n",
              "      <td>['implementation', 'math']</td>\n",
              "      <td>en</td>\n",
              "      <td>[0, 102, 1313, 36, 14657, 2388, 4276, 4839, 48...</td>\n",
              "    </tr>\n",
              "  </tbody>\n",
              "</table>\n",
              "</div>"
            ],
            "text/plain": [
              "  Unnamed: 0  time_limit  memory_limit  \\\n",
              "0     1616/E         1.0         256.0   \n",
              "1      900/A         1.0         256.0   \n",
              "2      702/F         4.0        1024.0   \n",
              "3      181/A         2.0         256.0   \n",
              "4     1352/A         1.0         256.0   \n",
              "\n",
              "                                         description  \\\n",
              "0  give two string $$$ s $$$ $$$ t $$$ equal leng...   \n",
              "1  n distinct point a plane none lie oy axis chec...   \n",
              "2  big consignment t - shirts go sale shop begin ...   \n",
              "3  berland capital shake three bold crimes commit...   \n",
              "4  a positive ( strictly greater zero ) integer c...   \n",
              "\n",
              "                                                tags language  \\\n",
              "0  ['bruteforce', 'datastructures', 'greedy', 'st...       en   \n",
              "1                     ['geometry', 'implementation']       en   \n",
              "2                                 ['datastructures']       en   \n",
              "3       ['bruteforce', 'geometry', 'implementation']       en   \n",
              "4                         ['implementation', 'math']       en   \n",
              "\n",
              "                               tokenized_description  \n",
              "0  [0, 26650, 80, 6755, 68, 42654, 579, 68, 42654...  \n",
              "1  [0, 282, 11693, 477, 10, 3286, 4146, 6105, 231...  \n",
              "2  [0, 8527, 7407, 15645, 326, 111, 15331, 213, 1...  \n",
              "3  [0, 1943, 1245, 812, 8559, 130, 7457, 3474, 62...  \n",
              "4  [0, 102, 1313, 36, 14657, 2388, 4276, 4839, 48...  "
            ]
          },
          "execution_count": 33,
          "metadata": {},
          "output_type": "execute_result"
        }
      ],
      "source": [
        "df=pd.read_csv('en_CTP10_tokenized.csv')\n",
        "df.head()"
      ]
    },
    {
      "cell_type": "markdown",
      "metadata": {
        "id": "zy9S7UeW5AQg"
      },
      "source": [
        "## TF-IDF Vectorization\n",
        "Use `TfidfVectorizer` to convert the text descriptions into numerical features."
      ]
    },
    {
      "cell_type": "code",
      "execution_count": 34,
      "metadata": {
        "colab": {
          "base_uri": "https://localhost:8080/"
        },
        "id": "EXv15x_c4u0Y",
        "outputId": "a27334f8-008d-4fc6-fda8-d51ca4d94cab"
      },
      "outputs": [
        {
          "data": {
            "text/plain": [
              "(1624, 1000)"
            ]
          },
          "execution_count": 34,
          "metadata": {},
          "output_type": "execute_result"
        }
      ],
      "source": [
        "vectorizer = TfidfVectorizer(max_features=1000)\n",
        "X = vectorizer.fit_transform(df['description'])\n",
        "X.shape"
      ]
    },
    {
      "cell_type": "markdown",
      "metadata": {
        "id": "y40JpJ8t5Rtq"
      },
      "source": [
        "## Preprocessing the Tags\n",
        "Convert the `tags` column from strings to lists."
      ]
    },
    {
      "cell_type": "code",
      "execution_count": 35,
      "metadata": {
        "id": "kR5Bz_ZYGbCz"
      },
      "outputs": [],
      "source": [
        "import ast\n",
        "\n",
        "tags = df['tags'].tolist()\n",
        "for i in range(len(tags)):\n",
        "    tags[i] = str(tags[i])\n",
        "\n",
        "df['tags'] = [ast.literal_eval(tag) for tag in tags]"
      ]
    },
    {
      "cell_type": "markdown",
      "metadata": {
        "id": "J7VNNgv75qMb"
      },
      "source": [
        "## Binarizing the Tags\n",
        "Use `MultiLabelBinarizer` to convert the tags into a binary format."
      ]
    },
    {
      "cell_type": "code",
      "execution_count": 36,
      "metadata": {
        "id": "8qfgagjf5nLF"
      },
      "outputs": [],
      "source": [
        "mlb = MultiLabelBinarizer()\n",
        "y = mlb.fit_transform(df['tags'])"
      ]
    },
    {
      "cell_type": "markdown",
      "metadata": {
        "id": "rTx3FmG05gV9"
      },
      "source": [
        "## Train-Test Split\n",
        "Split the data into training and testing sets."
      ]
    },
    {
      "cell_type": "code",
      "execution_count": 37,
      "metadata": {
        "id": "Dt667eE6Ze4N"
      },
      "outputs": [],
      "source": [
        "X_train, X_test, y_train, y_test = train_test_split(X, y, test_size=0.2, random_state=42)"
      ]
    },
    {
      "cell_type": "markdown",
      "metadata": {
        "id": "-BCAE4uu6Gu1"
      },
      "source": [
        "## Model Training\n",
        "Train a `MultinomialNB` classifier using `OneVsRestClassifier`."
      ]
    },
    {
      "cell_type": "code",
      "execution_count": 38,
      "metadata": {
        "colab": {
          "base_uri": "https://localhost:8080/"
        },
        "id": "bevh-hFdGqs-",
        "outputId": "8fa16842-65b3-43f9-de5b-5d277ed25966"
      },
      "outputs": [
        {
          "data": {
            "text/plain": [
              "(1299, 1000)"
            ]
          },
          "execution_count": 38,
          "metadata": {},
          "output_type": "execute_result"
        }
      ],
      "source": [
        "nb= MultinomialNB()\n",
        "\n",
        "classifier = OneVsRestClassifier(nb)\n",
        "classifier.fit(X_train, y_train)\n",
        "\n",
        "X_train.shape"
      ]
    },
    {
      "cell_type": "markdown",
      "metadata": {
        "id": "LvVn1Al76W2u"
      },
      "source": [
        "## Predictions\n",
        "Make predictions on the test set."
      ]
    },
    {
      "cell_type": "code",
      "execution_count": 79,
      "metadata": {
        "colab": {
          "base_uri": "https://localhost:8080/"
        },
        "id": "o6PY9eXWGuIf",
        "outputId": "a9088d81-76a1-469b-c0fb-eeeb13e8d03c"
      },
      "outputs": [
        {
          "data": {
            "text/plain": [
              "(325, 10)"
            ]
          },
          "execution_count": 79,
          "metadata": {},
          "output_type": "execute_result"
        }
      ],
      "source": [
        "y_pred = classifier.predict(X_test)\n",
        "y_pred.shape"
      ]
    },
    {
      "cell_type": "markdown",
      "metadata": {
        "id": "l5oX6gBu6ggT"
      },
      "source": [
        "Ensure that each text has at least one tag predicted."
      ]
    },
    {
      "cell_type": "code",
      "execution_count": 80,
      "metadata": {
        "id": "CJDS3DuclqIq"
      },
      "outputs": [],
      "source": [
        "y_pred1=copy.copy(y_pred)\n",
        "\n",
        "for i in range(y_pred1.shape[0]):\n",
        "    if not y_pred1[i].any():\n",
        "        # Assign the most probable tag\n",
        "        y_pred1[i, np.argmax(classifier.predict_proba(X_test[i]))] = 1"
      ]
    },
    {
      "cell_type": "markdown",
      "metadata": {
        "id": "Gha0SrHI6rEl"
      },
      "source": [
        "## Evaluation\n",
        "Evaluate the model using various metrics."
      ]
    },
    {
      "cell_type": "code",
      "execution_count": 81,
      "metadata": {
        "id": "IS_jlzNgG04X"
      },
      "outputs": [
        {
          "name": "stdout",
          "output_type": "stream",
          "text": [
            "F1 Score: 0.16300395146414276\n",
            "F1 Score (Al menos un tag por problema): 0.23954524090405585\n"
          ]
        }
      ],
      "source": [
        "#F1 Score (Macro)\n",
        "f1 = f1_score(y_test, y_pred, average='macro', zero_division=0)\n",
        "f11 = f1_score(y_test, y_pred1, average='macro', zero_division=0)\n",
        "print(f'F1 Score: {f1}')\n",
        "print(f'F1 Score (Al menos un tag por problema): {f11}')"
      ]
    },
    {
      "cell_type": "code",
      "execution_count": 82,
      "metadata": {},
      "outputs": [
        {
          "name": "stdout",
          "output_type": "stream",
          "text": [
            "ROC AUC Score: 0.5411140555341041\n",
            "ROC AUC Score (Al menos un tag por problema): 0.5604357685956793\n"
          ]
        }
      ],
      "source": [
        "# Calcular el roc_auc_score con promedio macro\n",
        "roc_auc = roc_auc_score(y_test, y_pred, average='macro', multi_class='ovr')\n",
        "roc_auc1 = roc_auc_score(y_test, y_pred1, average='macro', multi_class='ovr')\n",
        "print(f'ROC AUC Score: {roc_auc}')\n",
        "print(f'ROC AUC Score (Al menos un tag por problema): {roc_auc1}')"
      ]
    },
    {
      "cell_type": "code",
      "execution_count": 87,
      "metadata": {},
      "outputs": [
        {
          "name": "stdout",
          "output_type": "stream",
          "text": [
            "ROC AUC Scores por tag:\n",
            "bruteforce: 0.5044088425235966\n",
            "constructivealgorithms: 0.5\n",
            "datastructures: 0.5102040816326531\n",
            "dfsandsimilar: 0.5\n",
            "dp: 0.5\n",
            "geometry: 0.5294117647058824\n",
            "greedy: 0.5905742190788921\n",
            "implementation: 0.6218925575309783\n",
            "math: 0.5266973125884017\n",
            "strings: 0.6279517772806363\n",
            "\n",
            "ROC AUC Scores por tag (Al menos un tag por problema):\n",
            "bruteforce: 0.5006209637357178\n",
            "constructivealgorithms: 0.5048651880843662\n",
            "datastructures: 0.5204081632653061\n",
            "dfsandsimilar: 0.5\n",
            "dp: 0.5\n",
            "geometry: 0.5882352941176471\n",
            "greedy: 0.6090763660857118\n",
            "implementation: 0.5937043023166321\n",
            "math: 0.605617927864215\n",
            "strings: 0.6818294804871985\n"
          ]
        }
      ],
      "source": [
        "print(\"ROC AUC Scores por tag:\")\n",
        "for i in range(y_test.shape[1]):\n",
        "    # Graficar la curva ROC\n",
        "    print(f'{mlb.classes_[i]}: {roc_auc_score(y_test[:, i], y_pred[:, i])}')\n",
        "print()\n",
        "print(\"ROC AUC Scores por tag (Al menos un tag por problema):\")\n",
        "for i in range(y_test.shape[1]):\n",
        "    # Graficar la curva ROC\n",
        "    print(f'{mlb.classes_[i]}: {roc_auc_score(y_test[:, i], y_pred1[:, i])}')"
      ]
    },
    {
      "cell_type": "code",
      "execution_count": 88,
      "metadata": {},
      "outputs": [
        {
          "data": {
            "image/png": "[encoded data removed]",
            "text/plain": [
              "<Figure size 640x480 with 1 Axes>"
            ]
          },
          "metadata": {},
          "output_type": "display_data"
        }
      ],
      "source": [
        "import matplotlib.pyplot as plt \n",
        "\n",
        "# Graficar la curva ROC para cada etiqueta\n",
        "def plot_roc_auc(mlb,X_test,y_test,y_pred,classifier):\n",
        "    n_classes = y_test.shape[1]\n",
        "\n",
        "    plt.figure()\n",
        "\n",
        "    probs=classifier.predict_proba(X_test)\n",
        "\n",
        "    for i in range(n_classes):\n",
        "        # Calcular el FPR y TPR para la etiqueta i\n",
        "        fpr, tpr, _ = roc_curve(y_test[:, i], probs[:, i])\n",
        "        \n",
        "        # Graficar la curva ROC\n",
        "        plt.plot(fpr, tpr, label=f'{mlb.classes_[i]} (AUC = {roc_auc_score(y_test[:, i], y_pred[:, i]):.2f})')\n",
        "\n",
        "    plt.plot([0, 1], [0, 1], 'k--')  # Línea diagonal de referencia\n",
        "    plt.xlim([0.0, 1.0])\n",
        "    plt.ylim([0.0, 1.05])\n",
        "    plt.xlabel('False Positive Rate')\n",
        "    plt.ylabel('True Positive Rate')\n",
        "    plt.title('Tag Prediction Naive Bayes')\n",
        "    plt.legend(loc='lower right')\n",
        "    plt.show()\n",
        "\n",
        "plot_roc_auc(mlb,X_test,y_test,y_pred,classifier)"
      ]
    }
  ],
  "metadata": {
    "colab": {
      "provenance": []
    },
    "kernelspec": {
      "display_name": "Python 3",
      "language": "python",
      "name": "python3"
    },
    "language_info": {
      "codemirror_mode": {
        "name": "ipython",
        "version": 3
      },
      "file_extension": ".py",
      "mimetype": "text/x-python",
      "name": "python",
      "nbconvert_exporter": "python",
      "pygments_lexer": "ipython3",
      "version": "3.9.7"
    },
    "widgets": {
      "application/vnd.jupyter.widget-state+json": {
        "01030abd13dc4219823916e62792e709": {
          "model_module": "@jupyter-widgets/base",
          "model_module_version": "1.2.0",
          "model_name": "LayoutModel",
          "state": {
            "_model_module": "@jupyter-widgets/base",
            "_model_module_version": "1.2.0",
            "_model_name": "LayoutModel",
            "_view_count": null,
            "_view_module": "@jupyter-widgets/base",
            "_view_module_version": "1.2.0",
            "_view_name": "LayoutView",
            "align_content": null,
            "align_items": null,
            "align_self": null,
            "border": null,
            "bottom": null,
            "display": null,
            "flex": null,
            "flex_flow": null,
            "grid_area": null,
            "grid_auto_columns": null,
            "grid_auto_flow": null,
            "grid_auto_rows": null,
            "grid_column": null,
            "grid_gap": null,
            "grid_row": null,
            "grid_template_areas": null,
            "grid_template_columns": null,
            "grid_template_rows": null,
            "height": null,
            "justify_content": null,
            "justify_items": null,
            "left": null,
            "margin": null,
            "max_height": null,
            "max_width": null,
            "min_height": null,
            "min_width": null,
            "object_fit": null,
            "object_position": null,
            "order": null,
            "overflow": null,
            "overflow_x": null,
            "overflow_y": null,
            "padding": null,
            "right": null,
            "top": null,
            "visibility": null,
            "width": null
          }
        },
        "130d577c6c0f4e1383ee7de97267bad8": {
          "model_module": "@jupyter-widgets/output",
          "model_module_version": "1.0.0",
          "model_name": "OutputModel",
          "state": {
            "_dom_classes": [],
            "_model_module": "@jupyter-widgets/output",
            "_model_module_version": "1.0.0",
            "_model_name": "OutputModel",
            "_view_count": null,
            "_view_module": "@jupyter-widgets/output",
            "_view_module_version": "1.0.0",
            "_view_name": "OutputView",
            "layout": "IPY_MODEL_27af37da0d75422db970ee94b57428be",
            "msg_id": "",
            "outputs": [
              {
                "data": {
                  "image/png": "iVBORw0KGgoAAAANSUhEUgAAAhsAAAHHCAYAAAAWM5p0AAAAOXRFWHRTb2Z0d2FyZQBNYXRwbG90bGliIHZlcnNpb24zLjcuMSwgaHR0cHM6Ly9tYXRwbG90bGliLm9yZy/bCgiHAAAACXBIWXMAAA9hAAAPYQGoP6dpAABEbUlEQVR4nO3deXxMZ///8fcEGUlksUVEicS+U1RTe6m1i6VaW4WipVQbe+7WWpXuLe5autlKb1WttqpKhWgqtGiotYJWlaBULCESc35/9Gt+RoSEOZkk83rej/O4zXWuOedzJkM/+VzXdY7FMAxDAAAAJvFwdQAAACB/I9kAAACmItkAAACmItkAAACmItkAAACmItkAAACmItkAAACmItkAAACmItkAAACmItlAjtq/f7/atGkjf39/WSwWLV++3KnH//3332WxWDRv3jynHjcva9GihVq0aOG0450/f14DBgxQUFCQLBaLnn/+eacd+0YsFouGDh1q6jmczezvOZDXkGy4oQMHDujpp59WWFiYChcuLD8/PzVu3FjTpk3TxYsXTT13RESEfv31V7388stauHChGjRoYOr5clLfvn1lsVjk5+d3w89x//79slgsslgseuONN7J9/KNHj2rixIlKSEhwQrS3b+rUqZo3b54GDx6shQsX6oknnnBpPM6UkpKiiRMnav369Xd0nPz8PQduR0FXB4Cc9c0336hbt26yWq3q06ePatasqcuXLysuLk6jRo3Srl279N5775ly7osXLyo+Pl4vvPCCab+phoSE6OLFiypUqJApx7+VggULKiUlRV9//bUee+wxh32LFi1S4cKFdenSpds69tGjRzVp0iSVL19edevWzfL7Vq9efVvny0xMTIzuvfdeTZgwwanHzQ1SUlI0adIkSbrtalBOfM+BvIZkw40cOnRI3bt3V0hIiGJiYlS6dGn7viFDhigxMVHffPONaec/efKkJCkgIMC0c1gsFhUuXNi049+K1WpV48aN9cknn2RINhYvXqyOHTtq2bJlORJLSkqKvL295enp6dTjnjhxQtWrV3fa8dLT02Wz2ZwepyRduHBBPj4+Tj/uzZjxPXfFdQBOZcBtDBo0yJBk/Pjjj1nqn5aWZkyePNkICwszPD09jZCQECMqKsq4dOmSQ7+QkBCjY8eOxg8//GA0bNjQsFqtRmhoqDF//nx7nwkTJhiSHLaQkBDDMAwjIiLC/udrXX3PtVavXm00btzY8Pf3N3x8fIzKlSsbUVFR9v2HDh0yJBlz5851eN/atWuNJk2aGN7e3oa/v7/x8MMPG7t3777h+fbv329EREQY/v7+hp+fn9G3b1/jwoULt/y8IiIiDB8fH2PevHmG1Wo1/vnnH/u+n376yZBkLFu2zJBkvP766/Z9p06dMkaMGGHUrFnT8PHxMXx9fY127doZCQkJ9j7r1q3L8Plde53Nmzc3atSoYWzZssVo2rSp4eXlZTz33HP2fc2bN7cfq0+fPobVas1w/W3atDECAgKMv/7664bXl1kMhw4dMgzDMI4fP248+eSTRmBgoGG1Wo3atWsb8+bNczjG1Z/P66+/brz99ttGWFiY4eHhYfzyyy+Zfq6SjCFDhhgff/yxUblyZcNqtRp33323ERsb69Dv6s9v165dRo8ePYyAgACjbt26N/wMrrr2u3c1tuu3CRMm2Pvv2bPH6Nq1q1G0aFHDarUa9evXN7788ssMMdzoe24YhrFt2zajXbt2hq+vr+Hj42Pcf//9Rnx8vENMc+fONSQZ69evNwYPHmyULFnSCAgIsO9fuXKl0axZM6NIkSKGr6+v0aBBA2PRokUOx9i0aZPRtm1bw8/Pz/Dy8jKaNWtmxMXFZfoZA2ajsuFGvv76a4WFhem+++7LUv8BAwZo/vz5evTRRzVixAht3rxZ0dHR2rNnj7744guHvomJiXr00UfVv39/RURE6KOPPlLfvn1Vv3591ahRQ126dFFAQIAiIyPVo0cPdejQQUWKFMlW/Lt27dKDDz6o2rVra/LkybJarUpMTNSPP/540/d9//33at++vcLCwjRx4kRdvHhRM2bMUOPGjbVt2zaVL1/eof9jjz2m0NBQRUdHa9u2bfrggw8UGBioV199NUtxdunSRYMGDdLnn3+uJ598UtK/VY2qVavq7rvvztD/4MGDWr58ubp166bQ0FAdP35cc+bMUfPmzbV7924FBwerWrVqmjx5ssaPH6+nnnpKTZs2lSSHn+WpU6fUvn17de/eXb1791apUqVuGN+0adMUExOjiIgIxcfHq0CBApozZ45Wr16thQsXKjg4+Ibvq1atmhYuXKjIyEjdddddGjFihCSpZMmSunjxolq0aKHExEQNHTpUoaGhWrp0qfr27aszZ87oueeeczjW3LlzdenSJT311FOyWq0qVqzYTT/T2NhYLVmyRMOGDZPVatXMmTPVrl07/fTTT6pZs6ZD327duqlSpUqaOnWqDMO46XGvVbJkSc2aNUuDBw9W586d1aVLF0lS7dq1Jf37/WvcuLHKlCmjsWPHysfHR59++qk6deqkZcuW2d+T2fd8165datq0qfz8/DR69GgVKlRIc+bMUYsWLRQbG6tGjRo5xPPMM8+oZMmSGj9+vC5cuCBJmjdvnp588knVqFFDUVFRCggI0C+//KJVq1apZ8+ekv4d5mrfvr3q16+vCRMmyMPDQ3PnztX999+vH374Qffcc0+WPxPAaVyd7SBnJCcnG5KMRx55JEv9ExISDEnGgAEDHNpHjhxpSDJiYmLsbSEhIYYkY8OGDfa2EydOGFar1RgxYoS97drfaq+V1crG22+/bUgyTp48mWncN6ps1K1b1wgMDDROnTplb9u+fbvh4eFh9OnTJ8P5nnzySYdjdu7c2ShevHim57z2Onx8fAzDMIxHH33UaNWqlWEYhnHlyhUjKCjImDRp0g0/g0uXLhlXrlzJcB1Wq9WYPHmyve3nn3++YdXGMP79zV2SMXv27Bvuu/63+u+++86QZEyZMsU4ePCgUaRIEaNTp063vEbD+P+VrGu98847hiTj448/trddvnzZCA8PN4oUKWKcPXvWfl2SDD8/P+PEiRNZOp/+r0KwZcsWe9sff/xhFC5c2OjcubO97erPr0ePHhmOkZXKhmEYxsmTJzNUM65q1aqVUatWLYfKns1mM+677z6jUqVK9rbMvuedOnUyPD09jQMHDtjbjh49avj6+hrNmjWzt12tbDRp0sRIT0+3t585c8bw9fU1GjVqZFy8eNHh2Dabzf7/lSpVMtq2bWtvMwzDSElJMUJDQ40HHnggw3UBOYHVKG7i7NmzkiRfX98s9V+5cqUkafjw4Q7tV3+bvX5uR/Xq1e2/bUv//pZYpUoVHTx48LZjvt7VMfAvv/xSNpstS+85duyYEhIS1LdvX4ffnmvXrq0HHnjAfp3XGjRokMPrpk2b6tSpU/bPMCt69uyp9evXKykpSTExMUpKSrL/5nk9q9UqD49//ypeuXJFp06dUpEiRVSlShVt27Yty+e0Wq3q169flvq2adNGTz/9tCZPnqwuXbqocOHCmjNnTpbPdb2VK1cqKChIPXr0sLcVKlRIw4YN0/nz5xUbG+vQv2vXripZsmSWjx8eHq769evbX5crV06PPPKIvvvuO125csWh7/U/P2c4ffq0YmJi9Nhjj+ncuXP6+++/9ffff+vUqVNq27at9u/fr7/++ivT91+5ckWrV69Wp06dFBYWZm8vXbq0evbsqbi4uAzfr4EDB6pAgQL212vWrNG5c+c0duzYDPOSLBaLJCkhIUH79+9Xz549derUKXucFy5cUKtWrbRhw4Ys/90BnIlkw034+flJks6dO5el/n/88Yc8PDxUsWJFh/agoCAFBATojz/+cGgvV65chmMULVpU//zzz21GnNHjjz+uxo0ba8CAASpVqpS6d++uTz/99Kb/eF6Ns0qVKhn2VatWzf4P8bWuv5aiRYtKUraupUOHDvL19dWSJUu0aNEiNWzYMMNneZXNZtPbb7+tSpUqyWq1qkSJEipZsqR27Nih5OTkLJ+zTJky2Zpk+cYbb6hYsWJKSEjQ9OnTFRgYmOX3Xu+PP/5QpUqV7EnTVdWqVbPvv1ZoaGi2jl+pUqUMbZUrV1ZKSop9QubtHjsrEhMTZRiGxo0bp5IlSzpsV1flnDhxItP3nzx5UikpKZl+D202m/7880+H9uuv48CBA5KUYdjoWvv375f079Lb6+P84IMPlJqamq3vFOAszNlwE35+fgoODtbOnTuz9b6rvzHdyrW/gV3LyMKYeWbnuP43Vi8vL23YsEHr1q3TN998o1WrVmnJkiW6//77tXr16kxjyK47uZarrFarunTpovnz5+vgwYOaOHFipn2nTp2qcePG6cknn9RLL72kYsWKycPDQ88//3y2fgv18vLKcl9J+uWXX+z/gfz1118dqhJmy26sd3psi8Vyw5/f9d+xzFz9OYwcOVJt27a9YZ/MksnbdTuf0dU4X3/99UyXR2d3rhTgDCQbbuTBBx/Ue++9p/j4eIWHh9+0b0hIiGw2m/bv32//7VSSjh8/rjNnzigkJMRpcRUtWlRnzpzJ0H79b8OS5OHhoVatWqlVq1Z66623NHXqVL3wwgtat26dWrdufcPrkKR9+/Zl2Ld3716VKFHCtCWFPXv21EcffSQPDw917949036fffaZWrZsqQ8//NCh/cyZMypRooT9dVYTv6y4cOGC+vXrp+rVq+u+++7Ta6+9ps6dO6thw4a3dbyQkBDt2LFDNpvNobqxd+9e+/47cfU39mv99ttv8vb2ztJwTNGiRW84pHf9dyyzz/jq0EehQoVu+D27lZIlS8rb2zvT76GHh4fKli1702NUqFBBkrRz585ME5urffz8/G4rTsAsDKO4kdGjR8vHx0cDBgzQ8ePHM+w/cOCApk2bJunfYQBJeueddxz6vPXWW5Kkjh07Oi2uChUqKDk5WTt27LC3HTt2LMOKl9OnT2d479Xf3lJTU2947NKlS6tu3bqaP3++Q0Kzc+dOrV692n6dZmjZsqVeeukl/fe//1VQUFCm/QoUKJDht+6lS5dmmANwNSm6UWKWXWPGjNHhw4c1f/58vfXWWypfvrwiIiIy/RxvpUOHDkpKStKSJUvsbenp6ZoxY4aKFCmi5s2b31G88fHxDvNX/vzzT3355Zdq06ZNlipaFSpU0N69ex2GXLZv355hJZO3t7ekjJ9xYGCgWrRooTlz5ujYsWMZjn/9UM71ChQooDZt2ujLL7/U77//bm8/fvy4Fi9erCZNmtiHOjPTpk0b+fr6Kjo6OsON4a5+f+rXr68KFSrojTfe0Pnz57MdJ2AWKhtupEKFClq8eLEef/xxVatWzeEOohs3brQvVZSkOnXqKCIiQu+9957OnDmj5s2b66efftL8+fPVqVMntWzZ0mlxde/eXWPGjFHnzp01bNgwpaSkaNasWapcubLDf2AmT56sDRs2qGPHjgoJCdGJEyc0c+ZM3XXXXWrSpEmmx3/99dfVvn17hYeHq3///valr/7+/jcd3rhTHh4eevHFF2/Z78EHH9TkyZPVr18/3Xffffr111+1aNEih4mE0r8/v4CAAM2ePVu+vr7y8fFRo0aNsj1HISYmRjNnztSECRPsS3Hnzp2rFi1aaNy4cXrttdeydTxJeuqppzRnzhz17dtXW7duVfny5fXZZ5/pxx9/1DvvvJPlicmZqVmzptq2beuw9FWS/W6ft/Lkk0/qrbfeUtu2bdW/f3+dOHFCs2fPVo0aNRwmZnp5eal69epasmSJKleurGLFiqlmzZqqWbOm3n33XTVp0kS1atXSwIEDFRYWpuPHjys+Pl5HjhzR9u3bbxrDlClTtGbNGjVp0kTPPPOMChYsqDlz5ig1NTVLn7mfn5/efvttDRgwQA0bNlTPnj1VtGhRbd++XSkpKZo/f748PDz0wQcfqH379qpRo4b69eunMmXK6K+//tK6devk5+enr7/+OkufGeBUrlwKA9f47bffjIEDBxrly5c3PD09DV9fX6Nx48bGjBkzHJb1paWlGZMmTTJCQ0ONQoUKGWXLlr3pTb2ud/1yw8yWBBrGvzfrqlmzpuHp6WlUqVLF+PjjjzMsfV27dq3xyCOPGMHBwYanp6cRHBxs9OjRw/jtt98ynOP65aHff/+90bhxY8PLy8vw8/MzHnrooUxv6nX90tqrSxGv3rwqM9cufc1MZktfR4wYYZQuXdrw8vIyGjdubMTHx99wueaXX35pVK9e3ShYsOANb+p1I9ce5+zZs0ZISIhx9913G2lpaQ79IiMjDQ8Pjww3mbpeZj/v48ePG/369TNKlChheHp6GrVq1crwc7jZdyAzuuamXpUqVTKsVqtRr149Y926dQ79Mvv5XfXxxx/bb1BXt25d47vvvrvhsuuNGzca9evXNzw9PTMsgz1w4IDRp08fIygoyChUqJBRpkwZ48EHHzQ+++yzLF3jtm3bjLZt2xpFihQxvL29jZYtWxobN2506HP1+/bzzz/f8Dq++uor47777rN/l++55x7jk08+cejzyy+/GF26dDGKFy9uWK1WIyQkxHjssceMtWvX3vCYgNkshpGNWW8AAADZxJwNAABgKpINAABgKpINAABgKpINAABgKpINAABgKpINAABgKpINAABgqnx5B9G0v533WHMgP/Ep08zVIQC5zuXUI6afw1n/XSpUIuzWnXIhKhsAAMBU+bKyAQBArmK74uoIXIpkAwAAsxk2V0fgUiQbAACYzebeyQZzNgAAgKmobAAAYDKDYRQAAGAqhlEAAADMQ2UDAACzufkwCpUNAADMZrvinC0boqOj1bBhQ/n6+iowMFCdOnXSvn37HPq0aNFCFovFYRs0aJBDn8OHD6tjx47y9vZWYGCgRo0apfT09GzFQmUDAIB8KDY2VkOGDFHDhg2Vnp6u//znP2rTpo12794tHx8fe7+BAwdq8uTJ9tfe3t72P1+5ckUdO3ZUUFCQNm7cqGPHjqlPnz4qVKiQpk6dmuVYSDYAADCbC4ZRVq1a5fB63rx5CgwM1NatW9Ws2f9/TpK3t7eCgoJueIzVq1dr9+7d+v7771WqVCnVrVtXL730ksaMGaOJEyfK09MzS7EwjAIAgNlsNqdsqampOnv2rMOWmpqapRCSk5MlScWKFXNoX7RokUqUKKGaNWsqKipKKSkp9n3x8fGqVauWSpUqZW9r27atzp49q127dmX58kk2AADII6Kjo+Xv7++wRUdH3/J9NptNzz//vBo3bqyaNWva23v27KmPP/5Y69atU1RUlBYuXKjevXvb9yclJTkkGpLsr5OSkrIcN8MoAACYzFk39YqKitLw4cMd2qxW6y3fN2TIEO3cuVNxcXEO7U899ZT9z7Vq1VLp0qXVqlUrHThwQBUqVHBKzBLJBgAA5nPSTb2sVmuWkotrDR06VCtWrNCGDRt011133bRvo0aNJEmJiYmqUKGCgoKC9NNPPzn0OX78uCRlOs/jRhhGAQDAbIbNOVt2TmkYGjp0qL744gvFxMQoNDT0lu9JSEiQJJUuXVqSFB4erl9//VUnTpyw91mzZo38/PxUvXr1LMdCZQMAgHxoyJAhWrx4sb788kv5+vra51j4+/vLy8tLBw4c0OLFi9WhQwcVL15cO3bsUGRkpJo1a6batWtLktq0aaPq1avriSee0GuvvaakpCS9+OKLGjJkSLYqLBbDMAxTrtKF0v4+6OoQgFzJp0yzW3cC3Mzl1COmnyN1b6xTjmOt2jzLfS0Wyw3b586dq759++rPP/9U7969tXPnTl24cEFly5ZV586d9eKLL8rPz8/e/48//tDgwYO1fv16+fj4KCIiQq+88ooKFsx6vYJkA3AjJBtARjmSbOxZ55TjWKu1dMpxchpzNgAAgKmYswEAgNnc/BHzJBsAAJiNp74CAACYh8oGAABmYxgFAACYyTCuuDoEl2IYBQAAmIrKBgAAZnPzCaIkGwAAmI05GwAAwFRuXtlgzgYAADAVlQ0AAMxmc+/VKCQbAACYjWEUAAAA81DZAADAbKxGAQAApmIYBQAAwDxUNgAAMBvDKAAAwFRunmwwjAIAAExFZQMAAJO5+yPmSTYAADCbmw+jkGwAAGA2lr4CAACYh8oGAABmYxgFAACYimEUAAAA81DZAADAbAyjAAAAUzGMAgAAYB4qGwAAmI1hFAAAYCo3TzYYRgEAAKaisgEAgNncfIIoyQYAAGZz82EUkg0AAMzm5pUN5mwAAABTUdkAAMBsDKMAAABTMYwCAABgHiobAACYjWEUAABgKjdPNhhGAQAApqKyAQCA2QzD1RG4FMkGAABmYxgFAADAPFQ2AAAwm5tXNkg2AAAwm5vf1ItkAwAAs7l5ZYM5GwAAwFRUNgAAMBtLXwEAgKkYRgEAADAPlQ0AAMzm5pUNkg0AAMzm5ktfGUYBAACmorIBAIDJDJt7r0bJVZWNy5cva9++fUpPT3d1KAAAOI/N5pwtj8oVyUZKSor69+8vb29v1ahRQ4cPH5YkPfvss3rllVdcHB0AALgTuSLZiIqK0vbt27V+/XoVLlzY3t66dWstWbLEhZEBAOAEhs05Wx6VK5KN5cuX67///a+aNGkii8Vib69Ro4YOHDjgwsgAAHACm+GcLRuio6PVsGFD+fr6KjAwUJ06ddK+ffsc+ly6dElDhgxR8eLFVaRIEXXt2lXHjx936HP48GF17NhR3t7eCgwM1KhRo7I93SFXJBsnT55UYGBghvYLFy44JB8AAORJLpizERsbqyFDhmjTpk1as2aN0tLS1KZNG124cMHeJzIyUl9//bWWLl2q2NhYHT16VF26dLHvv3Llijp27KjLly9r48aNmj9/vubNm6fx48dnKxaLYbj+hu3NmjVTt27d9Oyzz8rX11c7duxQaGionn32We3fv1+rVq3K1vHS/j5oUqRA3uZTppmrQwByncupR0w/R8qMZ5xyHO9nZ972e6/+Yh8bG6tmzZopOTlZJUuW1OLFi/Xoo49Kkvbu3atq1aopPj5e9957r7799ls9+OCDOnr0qEqVKiVJmj17tsaMGaOTJ0/K09MzS+fOFUtfp06dqvbt22v37t1KT0/XtGnTtHv3bm3cuFGxsbGuDg8AgDuTC1aSJCcnS5KKFSsmSdq6davS0tLUunVre5+qVauqXLly9mQjPj5etWrVsicaktS2bVsNHjxYu3btUr169bJ07lwxjNKkSRMlJCQoPT1dtWrV0urVqxUYGKj4+HjVr1/f1eEBAHBnDMMpW2pqqs6ePeuwpaam3vL0NptNzz//vBo3bqyaNWtKkpKSkuTp6amAgACHvqVKlVJSUpK9z7WJxtX9V/dlVa6obEhShQoV9P7777s6DAAAcq3o6GhNmjTJoW3ChAmaOHHiTd83ZMgQ7dy5U3FxcSZGl7lcUdnYtm2bfv31V/vrL7/8Up06ddJ//vMfXb582YWR4XrvL1iix/sP0z2tu6hZx+4aNnayDv2RcbwzYecePfnsWDVs1UmNHuiiiGdG6dI12Xfy2XMaM/FVNXqgi8LbPqpx0W8rJeViTl4K4FKjRg7R5dQjeuONia4OBTnBSRNEo6KilJyc7LBFRUXd9NRDhw7VihUrtG7dOt1111329qCgIF2+fFlnzpxx6H/8+HEFBQXZ+1y/OuXq66t9siJXJBtPP/20fvvtN0nSwYMH9fjjj8vb21tLly7V6NGjXRwdrrUl4Vf16PKQFr/3tt57Z6rS0tP1VOQLSrl4yd4nYeceDRr+ou6752598v40/e+D6erR9SF5XLOyaMyk15R46LDef2eq3n1torYm7NTE16a74pKAHFe/fh0NGNhLO3bsdnUoyClOWvpqtVrl5+fnsFmt1hue0jAMDR06VF988YViYmIUGhrqsL9+/foqVKiQ1q5da2/bt2+fDh8+rPDwcElSeHi4fv31V504ccLeZ82aNfLz81P16tWzfPm5Itn47bffVLduXUnS0qVL1bx5cy1evFjz5s3TsmXLXBscHMx5a4o6dXxAFcNCVLVSmF5+YbiOHT+h3fv22/u8Nm2Oej36iAY88ZgqhoUoNOQutWvVzD5r+cDvhxW3aYsmjX1OtWtU1d11auo/kYP17fexOnHylKsuDcgRPj7eWjB/hgYPHq1//kl2dTjIx4YMGaKPP/5Yixcvlq+vr5KSkpSUlKSLF/+tIvv7+6t///4aPny41q1bp61bt6pfv34KDw/XvffeK0lq06aNqlevrieeeELbt2/Xd999pxdffFFDhgzJNMm5kVyRbBiGIdv/zdT9/vvv1aFDB0lS2bJl9ffff7syNNzC+QspkiR/P19J0ql/zmjH7n0qVtRfvZ4ermYP9lDfIaO0bftO+3u279wjP98iqlmtsr3t3gb15OFh0Y7de3P2AoAcNn3ay1r57VrFxLhm7Bwu4oI7iM6aNUvJyclq0aKFSpcubd+uvTP322+/rQcffFBdu3ZVs2bNFBQUpM8//9y+v0CBAlqxYoUKFCig8PBw9e7dW3369NHkyZOzFUuumCDaoEEDTZkyRa1bt1ZsbKxmzZolSTp06FCGWbDIPWw2m16ZNkf1aldXpbDykqQjfx2TJM38aJFGDh2gqpXC9NW3a9X/uSgtXzhbIWXL6O9T/6hYgL/DsQoWLCB/X1/9ffqfnL4MIMc81u1h1atXS+H3dXR1KMhpLnjqa1Zuo1W4cGG9++67evfddzPtExISopUrV95RLLki2XjnnXfUq1cvLV++XC+88IIqVqwoSfrss89033333fS9qampGZb9eKSmZqu8g9sz5c13lXjwdy2Y9Ya9zfZ/X+5uj3RQ545tJEnVKlfUpq0J+nzFakUO7ueSWAFXu+uu0nrzzUnq0KFnlpYqAvlJrkg2ateu7bAa5arXX39dBQoUuOl7b7QM6MVRwzR+9HNOjRGOXn5zpmI3/qT5776uoMCS9vaSxf+9WUyF0HIO/cNCyinp+L8TjEoUL6rTZxzHqtPTryj53DmVKFbU5MgB17j77toqVaqkNm/+1t5WsGBBNW3aSM8M7qsivmH24WTkP4ab/2xzRbKRmWufAJuZqKgoDR8+3KHN49xfZoXk9gzD0NS3Zmntho2a+99XdVew49KnMqVLKbBEcf1+3XLYP/48oib3NpQk1alZTWfPndeuvftVo2olSdLmrQmy2QzVrl41Zy4EyGExMXGqV6+VQ9v777+pffsO6I03ZpJo5HcuGEbJTVyWbBQtWjTLD1k7ffp0pvusVmuGIZO0y0wqNcuUN9/VyjXrNf2V8fLx9tLfp/792RQp4qPCVqssFov69eyqdz/8WFUqhapqpQr6cuX3OvTHEb015QVJUoXy5dTk3gaa+Oo0jR/1rNLS0zX17Vlq37q5AksWd+XlAaY5f/6Cdu12fOLmhQsXder0PxnakQ/l4cfDO4PLko133nnHVafGHVjyxTeSpH5Dxzi0T/nPcHXq+IAk6YnHOyv1cppenf6ezp49p8oVw/T+Oy+r3F3B9v6vThitl9+aqf7DouThYVHrFo31n+cH59yFAAByTK546quz8dRX4MZ46iuQUU489fXC5F5OOY7P+EVOOU5Oy3VzNi5dupThFuV+fn4uigYAACdw8zk5ueKmXhcuXNDQoUMVGBgoHx8fFS1a1GEDAAB5V65INkaPHq2YmBjNmjVLVqtVH3zwgSZNmqTg4GAtWLDA1eEBAHBnnPRslLwqVwyjfP3111qwYIFatGihfv36qWnTpqpYsaJCQkK0aNEi9erlnLEuAABcws1Xo+SKysbp06cVFhYm6d/5GVeXujZp0kQbNmxwZWgAAOAO5YpkIywsTIcOHZIkVa1aVZ9++qmkfyseAQEBLowMAAAncPNhFJcmGwcPHpTNZlO/fv20fft2SdLYsWP17rvvqnDhwoqMjNSoUaNcGSIAAHfMsNmcsuVVLp2zUalSJR07dkyRkZGSpMcff1zTp0/X3r17tXXrVlWsWFG1a9d2ZYgAAOAOuTTZuP5+YitXrlR0dLTCwsIUEhLioqgAAHCyPDwE4gy5YjUKAAD5GsmG61gslgwPY8vqw9kAAMgz3Hzpq8uHUfr27Wt/auulS5c0aNAg+fj4OPT7/PPPXREeAABwApcmGxEREQ6ve/fu7aJIAAAwEcMorjN37lxXnh4AgBxhuHmykStu6gUAAPIvVqMAAGA2N69skGwAAGC2PHz3T2dgGAUAAJiKygYAAGZjGAUAAJjKzZMNhlEAAICpqGwAAGCy6x886m5INgAAMJubD6OQbAAAYDY3TzaYswEAAExFZQMAAJO5+7NRSDYAADCbmycbDKMAAABTUdkAAMBs7v1oFJINAADM5u5zNhhGAQAApqKyAQCA2dy8skGyAQCA2dx8zgbDKAAAwFRUNgAAMJm7TxAl2QAAwGxuPoxCsgEAgMncvbLBnA0AAGAqKhsAAJiNYRQAAGAmw82TDYZRAACAqahsAABgNjevbJBsAABgMoZRAAAATERlAwAAs7l5ZYNkAwAAk7n7MArJBgAAJnP3ZIM5GwAAwFRUNgAAMJm7VzZINgAAMJthcXUELsUwCgAAMBWVDQAATMYwCgAAMJVhYxgFAADANFQ2AAAwmbsPo1DZAADAZIZhccqWXRs2bNBDDz2k4OBgWSwWLV++3GF/3759ZbFYHLZ27do59Dl9+rR69eolPz8/BQQEqH///jp//ny24iDZAAAgn7pw4YLq1Kmjd999N9M+7dq107Fjx+zbJ5984rC/V69e2rVrl9asWaMVK1Zow4YNeuqpp7IVB8MoAACYzFXDKO3bt1f79u1v2sdqtSooKOiG+/bs2aNVq1bp559/VoMGDSRJM2bMUIcOHfTGG28oODg4S3FQ2QAAwGSGzeKULTU1VWfPnnXYUlNT7yi29evXKzAwUFWqVNHgwYN16tQp+774+HgFBATYEw1Jat26tTw8PLR58+Ysn4NkAwAAkxmGc7bo6Gj5+/s7bNHR0bcdV7t27bRgwQKtXbtWr776qmJjY9W+fXtduXJFkpSUlKTAwECH9xQsWFDFihVTUlJSls/DMAoAAHlEVFSUhg8f7tBmtVpv+3jdu3e3/7lWrVqqXbu2KlSooPXr16tVq1a3fdzrkWwAAGAyZ93Uy2q13lFycSthYWEqUaKEEhMT1apVKwUFBenEiRMOfdLT03X69OlM53ncCMMoAACYzFlzNsx25MgRnTp1SqVLl5YkhYeH68yZM9q6dau9T0xMjGw2mxo1apTl41LZAAAgnzp//rwSExPtrw8dOqSEhAQVK1ZMxYoV06RJk9S1a1cFBQXpwIEDGj16tCpWrKi2bdtKkqpVq6Z27dpp4MCBmj17ttLS0jR06FB17949yytRJCobAACYzlkTRLNry5YtqlevnurVqydJGj58uOrVq6fx48erQIEC2rFjhx5++GFVrlxZ/fv3V/369fXDDz84DNUsWrRIVatWVatWrdShQwc1adJE7733XrbisBjG7YSfu6X9fdDVIQC5kk+ZZq4OAch1LqceMf0cB2u1ccpxwn5d7ZTj5DQqGwAAwFTM2QAAwGS381yT/IRkAwAAk/HUVwAAABNR2QAAwGQ2hlEAAICZmLMBAABMlRN3/8zNmLMBAABMRWUDAACT5b/bZ2YPyQYAACZz92GULCcbXbp0yfJBP//889sKBgAA5D9ZTjb8/f3NjAMAgHyLpa9ZNHfuXDPjAAAg33L3pa+sRgEAAKa67Qmin332mT799FMdPnxYly9fdti3bdu2Ow4MAID8wt1Xo9xWZWP69Onq16+fSpUqpV9++UX33HOPihcvroMHD6p9+/bOjhEAgDzNZlicsuVVt5VszJw5U++9955mzJghT09PjR49WmvWrNGwYcOUnJzs7BgBAEAedlvJxuHDh3XfffdJkry8vHTu3DlJ0hNPPKFPPvnEedEBAJAPGIbFKVtedVvJRlBQkE6fPi1JKleunDZt2iRJOnTokAx3H5gCAOA6huGcLa+6rWTj/vvv11dffSVJ6tevnyIjI/XAAw/o8ccfV+fOnZ0aIAAAeZ27z9m4rdUo7733nmw2myRpyJAhKl68uDZu3KiHH35YTz/9tFMDBAAAeZvFyIfjHj1COrk6BCBXWnrsZ1eHAOQ66Zf/Mv0cP5dxTtW/4V9fOOU4Oe22b+r1ww8/qHfv3goPD9dff/37g1q4cKHi4uKcFhwAAPmBuw+j3FaysWzZMrVt21ZeXl765ZdflJqaKklKTk7W1KlTnRogAADI224r2ZgyZYpmz56t999/X4UKFbK3N27cmLuHAgBwHcNJW151WxNE9+3bp2bNmmVo9/f315kzZ+40JgAA8pW8PATiDLd9n43ExMQM7XFxcQoLC7vjoAAAQP5xW8nGwIED9dxzz2nz5s2yWCw6evSoFi1apBEjRmjw4MHOjhEAgDzN3e8gelvDKGPHjpXNZlOrVq2UkpKiZs2ayWq1atSoURowYICzYwQAIE+zuToAF7utyobFYtELL7yg06dPa+fOndq0aZNOnjwpf39/hYaGOjtGAACQh2Ur2UhNTVVUVJQaNGigxo0ba+XKlapevbp27dqlKlWqaNq0aYqMjDQrVgAA8iRDFqdseVW2hlHGjx+vOXPmqHXr1tq4caO6deumfv36adOmTXrzzTfVrVs3FShQwKxYAQDIk2x5ed2qE2Qr2Vi6dKkWLFighx9+WDt37lTt2rWVnp6u7du3y2LJuxkXAABmsuXhqoQzZGsY5ciRI6pfv74kqWbNmrJarYqMjCTRAAAAmcpWZePKlSvy9PT8/28uWFBFihRxelAAAOQneXm+hTNkK9kwDEN9+/aV1WqVJF26dEmDBg2Sj4+PQ7/PP//ceRECAJDHufvS12wlGxEREQ6ve/fu7dRgAABA/pOtZGPu3LlmxQEAQL7FMAoAADCVuw+j3NYdRAEAALKKygYAACZz98oGyQYAACZz9zkbDKMAAABTUdkAAMBkNvcubJBsAABgNnd/NgrJBgAAJnPzh74yZwMAAJiLygYAACZj6SsAADCVzeLeczYYRgEAAKaisgEAgMncfYIoyQYAACZz9zkbDKMAAABTUdkAAMBk3EEUAACYyt3vIMowCgAAMBWVDQAATMZqFAAAYCrmbAAAAFOx9BUAAMBEJBsAAJjMcNKWXRs2bNBDDz2k4OBgWSwWLV++3DEuw9D48eNVunRpeXl5qXXr1tq/f79Dn9OnT6tXr17y8/NTQECA+vfvr/Pnz2crDpINAABMZrM4Z8uuCxcuqE6dOnr33XdvuP+1117T9OnTNXv2bG3evFk+Pj5q27atLl26ZO/Tq1cv7dq1S2vWrNGKFSu0YcMGPfXUU9mKgzkbAADkU+3bt1f79u1vuM8wDL3zzjt68cUX9cgjj0iSFixYoFKlSmn58uXq3r279uzZo1WrVunnn39WgwYNJEkzZsxQhw4d9MYbbyg4ODhLcVDZAADAZDYnbampqTp79qzDlpqaelsxHTp0SElJSWrdurW9zd/fX40aNVJ8fLwkKT4+XgEBAfZEQ5Jat24tDw8Pbd68OcvnItkAAMBkzko2oqOj5e/v77BFR0ffVkxJSUmSpFKlSjm0lypVyr4vKSlJgYGBDvsLFiyoYsWK2ftkBcMoAADkEVFRURo+fLhDm9VqdVE0WUeyAQCAyQwn3dTLarU6LbkICgqSJB0/flylS5e2tx8/flx169a19zlx4oTD+9LT03X69Gn7+7OCYRQAAEzmrGEUZwoNDVVQUJDWrl1rbzt79qw2b96s8PBwSVJ4eLjOnDmjrVu32vvExMTIZrOpUaNGWT4XlQ0AAPKp8+fPKzEx0f760KFDSkhIULFixVSuXDk9//zzmjJliipVqqTQ0FCNGzdOwcHB6tSpkySpWrVqateunQYOHKjZs2crLS1NQ4cOVffu3bO8EkUi2QAAwHSuul35li1b1LJlS/vrq/M9IiIiNG/ePI0ePVoXLlzQU089pTNnzqhJkyZatWqVChcubH/PokWLNHToULVq1UoeHh7q2rWrpk+fnq04LIZh5LuH0fUI6eTqEIBcaemxn10dApDrpF/+y/RzzCjb2ynHefbPj51ynJxGZQMAAJO5+1NfmSAKAABMRWUDAACTufsj5kk2AAAwmbsnGwyjAAAAU1HZAADAZPlu2Wc2kWwAAGAyVqMAAACYiMoGAAAmc/cJoiQbAACYzN3nbDCMAgAATEVlAwAAk9ncvLZBsgEAgMmYswEAAEzl3nUN5mwAAACTUdkAAMBkDKMAAABTcQdRAAAAE1HZAADAZCx9BQAApnLvVINhFAAAYDIqGwAAmIzVKAAAwFTuPmeDYRQAAGAqKhsAAJjMvesaJBsAAJiOORsAAMBUzNkAAAAwEZUNAABM5t51jVxS2fjhhx/Uu3dvhYeH66+//pIkLVy4UHFxcS6ODACAO2dz0pZXuTzZWLZsmdq2bSsvLy/98ssvSk1NlSQlJydr6tSpLo4OAADcKZcnG1OmTNHs2bP1/vvvq1ChQvb2xo0ba9u2bS6MDAAA5zCc9L+8yuVzNvbt26dmzZplaPf399eZM2dyPiAAAJwsLw+BOIPLKxtBQUFKTEzM0B4XF6ewsDAXRAQAAJzJ5cnGwIED9dxzz2nz5s2yWCw6evSoFi1apJEjR2rw4MGuDg8AgDtmk+GULa9y+TDK2LFjZbPZ1KpVK6WkpKhZs2ayWq0aOXKknn32WVeHBwDAHcu7aYJzuDzZsFgseuGFFzRq1CglJibq/Pnzql69uooUKeLq0AAAgBO4PNm4ytPTU9WrV3d1GLhNRUsVU8+oPqrT4m5ZvaxK+j1Jc0ZO18FfD9j7PDq8h+7v8YB8/Hy0b8teffTCbCX9fsyFUQM5q2mTRhoxYrDurldLwcFB6vLok/rqq+9cHRZyQF4eAnEGlycbLVu2lMViyXR/TExMDkaD2+Hj56NJy17Rrvhf9WrESzp7OllB5YN1PvmCvc9DgzqrXd8HNWvENJ3887i6jeipsQsnaFTrZ5WWmubC6IGc4+PjrR07dmvuvP9p2dIPXR0OcpC7r0ZxebJRt25dh9dpaWlKSEjQzp07FRER4ZqgkC0PDe6iU8f+1pxRM+xtJ/884dCnff+H9MV/P9XWNT9JkmYOn6bZW+apQZtGiv+aO8XCPaz6bp1WfbfO1WHABfLyPTKcweXJxttvv33D9okTJ+r8+fM5HA1uR/0H7tGO2F/03MxRqtaohv45flprFnyrmP+tkSQFli2looHFtDNuh/09F8+l6EDCb6p0dxWSDQDI51y+9DUzvXv31kcffXTLfqmpqTp79qzDdsW4kgMR4qrAsqXUunc7JR06plf6TNKahasUMWmAmnVtKUnyDwyQJCX/fcbhfcl/JyugZNEcjhYAch7PRsml4uPjVbhw4Vv2i46Olr+/v8O2O3l/DkSIqzw8LPp910Etef1j/b7rkGI+Wa2YT9aoVe+2rg4NAHIFblfuYl26dHF4bRiGjh07pi1btmjcuHG3fH9UVJSGDx/u0DagZi+nxoib++fEPzqy/0+Htr8Sj+ie9uGSpOQTZyRJ/iUCdObEP/Y+/iX89fvuQzkWJwDANVyebPj7+zu89vDwUJUqVTR58mS1adPmlu+3Wq2yWq0ObQUsBZwaI27ut617FRxWxqGtdGiw/v7rpCTpxJ/H9c+J06rZuLb++L/kwquIlyrUraw1H6/K8XgBIKfl5SEQZ3BpsnHlyhX169dPtWrVUtGijN3nVSs/+EqTPn9Fjwx5VJtWxKlC3cq6v2cbfRA1097n2w+/Vqdnuynp0FGd+POEuo3oqX9OnNaW1ZtdGDmQs3x8vFWxYqj9dWj5cqpTp4ZOn/5Hf/551IWRwWw2I+8OgTiDxTBc+wkULlxYe/bsUWho6K07Z1GPkE5OOxaypt79DdR9zBMKKl9aJ48c18r3v7KvRrnq0eE91KpHG3n7+Wjflj366MU5SjrEP7A5aemxn10dgltr3ixca7//LEP7/AWfqv+ASBdEBElKv/yX6ed4IqTLrTtlwcI/PnfKcXKay4dRatasqYMHDzo12UDO+yVmi36J2XLTPp+99Yk+e+uTHIoIyH1iN8SroGeZW3dEvuPedY1csBplypQpGjlypFasWKFjx45lWMYKAEBex1NfXWTy5MkaMWKEOnToIEl6+OGHHW5bbhiGLBaLrlzhnhkAAORlLks2Jk2apEGDBmndOm7dCwDI3/LyPTKcwWXJxtV5qc2bN3dVCAAA5AiWvrrQzZ72CgBAfpGX51s4g0uTjcqVK98y4Th9+nQORQMAAMzg0mRj0qRJGe4gCgBAfsOcDRfq3r27AgMDXRkCAACmc/c5Gy67zwbzNQAAcA8uX40CAEB+5+7/zXNZsmGzuXtRCQDgLtx9NYrLb1cOAADyN5c/iA0AgPzO3Wv5VDYAADCZ4aT/ZcfEiRNlsVgctqpVq9r3X7p0SUOGDFHx4sVVpEgRde3aVcePH3f2pUsi2QAAIN+qUaOGjh07Zt/i4uLs+yIjI/X1119r6dKlio2N1dGjR9WlSxdT4mAYBQAAk7lqgmjBggUVFBSUoT05OVkffvihFi9erPvvv1+SNHfuXFWrVk2bNm3Svffe69Q4qGwAAGAywzCcsqWmpurs2bMOW2pqaqbn3b9/v4KDgxUWFqZevXrp8OHDkqStW7cqLS1NrVu3tvetWrWqypUrp/j4eKdfP8kGAAAmszlpi46Olr+/v8MWHR19w3M2atRI8+bN06pVqzRr1iwdOnRITZs21blz55SUlCRPT08FBAQ4vKdUqVJKSkpy+vUzjAIAQB4RFRWl4cOHO7RZrdYb9m3fvr39z7Vr11ajRo0UEhKiTz/9VF5eXqbGeT2SDQAATOasB7FZrdZMk4tbCQgIUOXKlZWYmKgHHnhAly9f1pkzZxyqG8ePH7/hHI87xTAKAAAms8lwynYnzp8/rwMHDqh06dKqX7++ChUqpLVr19r379u3T4cPH1Z4ePidXm4GVDYAAMiHRo4cqYceekghISE6evSoJkyYoAIFCqhHjx7y9/dX//79NXz4cBUrVkx+fn569tlnFR4e7vSVKBLJBgAApnPFg9iOHDmiHj166NSpUypZsqSaNGmiTZs2qWTJkpKkt99+Wx4eHuratatSU1PVtm1bzZw505RYLEY+fBRdj5BOrg4ByJWWHvvZ1SEAuU765b9MP0fLux5wynHWHVnjlOPkNOZsAAAAUzGMAgCAyZy1GiWvItkAAMBktvw3YyFbGEYBAACmorIBAIDJ3LuuQbIBAIDpXPXU19yCZAMAAJO5e7LBnA0AAGAqKhsAAJgsH94/M1tINgAAMBnDKAAAACaisgEAgMm4gygAADCVu8/ZYBgFAACYisoGAAAmc/cJoiQbAACYjGEUAAAAE1HZAADAZAyjAAAAU7H0FQAAmMrGnA0AAADzUNkAAMBkDKMAAABTMYwCAABgIiobAACYjGEUAABgKoZRAAAATERlAwAAkzGMAgAATMUwCgAAgImobAAAYDKGUQAAgKkMw+bqEFyKZAMAAJO5+yPmmbMBAABMRWUDAACTGW6+GoVkAwAAkzGMAgAAYCIqGwAAmIxhFAAAYCruIAoAAGAiKhsAAJiMO4gCAABTufucDYZRAACAqahsAABgMne/zwbJBgAAJnP3YRSSDQAATMbSVwAAABNR2QAAwGQMowAAAFO5+wRRhlEAAICpqGwAAGAyhlEAAICpWI0CAABgIiobAACYjAexAQAAUzGMAgAAYCIqGwAAmIzVKAAAwFTM2QAAAKZy98oGczYAAICpqGwAAGAyd69skGwAAGAy9041GEYBAAAmsxjuXtuBaVJTUxUdHa2oqChZrVZXhwPkGvzdgLsh2YBpzp49K39/fyUnJ8vPz8/V4QC5Bn834G4YRgEAAKYi2QAAAKYi2QAAAKYi2YBprFarJkyYwAQ44Dr83YC7YYIoAAAwFZUNAABgKpINAABgKpINAABgKpINmGLevHkKCAhwdRgAgFyAZAM31bdvX1kslgxbYmKiq0MDXO5Gfzeu3SZOnOjqEIFcgae+4pbatWunuXPnOrSVLFnSRdEAucexY8fsf16yZInGjx+vffv22duKFCli/7NhGLpy5YoKFuSfXbgfKhu4JavVqqCgIIdt2rRpqlWrlnx8fFS2bFk988wzOn/+fKbH2L59u1q2bClfX1/5+fmpfv362rJli31/XFycmjZtKi8vL5UtW1bDhg3ThQsXcuLygNt27d8Jf39/WSwW++u9e/fK19dX3377rerXry+r1aq4uDj17dtXnTp1cjjO888/rxYtWthf22w2RUdHKzQ0VF5eXqpTp44+++yznL04wIlINnBbPDw8NH36dO3atUvz589XTEyMRo8enWn/Xr166a677tLPP/+srVu3auzYsSpUqJAk6cCBA2rXrp26du2qHTt2aMmSJYqLi9PQoUNz6nIA04wdO1avvPKK9uzZo9q1a2fpPdHR0VqwYIFmz56tXbt2KTIyUr1791ZsbKzJ0QLmoJ6HW1qxYoVDObh9+/ZaunSp/XX58uU1ZcoUDRo0SDNnzrzhMQ4fPqxRo0apatWqkqRKlSrZ90VHR6tXr156/vnn7fumT5+u5s2ba9asWSpcuLAJVwXkjMmTJ+uBBx7Icv/U1FRNnTpV33//vcLDwyVJYWFhiouL05w5c9S8eXOzQgVMQ7KBW2rZsqVmzZplf+3j46Pvv/9e0dHR2rt3r86ePav09HRdunRJKSkp8vb2znCM4cOHa8CAAVq4cKFat26tbt26qUKFCpL+HWLZsWOHFi1aZO9vGIZsNpsOHTqkatWqmX+RgEkaNGiQrf6JiYlKSUnJkKBcvnxZ9erVc2ZoQI4h2cAt+fj4qGLFivbXv//+ux588EENHjxYL7/8sooVK6a4uDj1799fly9fvmGyMXHiRPXs2VPffPONvv32W02YMEH/+9//1LlzZ50/f15PP/20hg0bluF95cqVM/XaALP5+Pg4vPbw8ND1T4lIS0uz//nq3KdvvvlGZcqUcejHs1SQV5FsINu2bt0qm82mN998Ux4e/077+fTTT2/5vsqVK6ty5cqKjIxUjx49NHfuXHXu3Fl33323du/e7ZDQAPlVyZIltXPnToe2hIQE+xym6tWry2q16vDhwwyZIN9ggiiyrWLFikpLS9OMGTN08OBBLVy4ULNnz860/8WLFzV06FCtX79ef/zxh3788Uf9/PPP9uGRMWPGaOPGjRo6dKgSEhK0f/9+ffnll0wQRb50//33a8uWLVqwYIH279+vCRMmOCQfvr6+GjlypCIjIzV//nwdOHBA27Zt04wZMzR//nwXRg7cPpINZFudOnX01ltv6dVXX1XNmjW1aNEiRUdHZ9q/QIECOnXqlPr06aPKlSvrscceU/v27TVp0iRJUu3atRUbG6vffvtNTZs2Vb169TR+/HgFBwfn1CUBOaZt27YaN26cRo8erYYNG+rcuXPq06ePQ5+XXnpJ48aNU3R0tKpVq6Z27drpm2++UWhoqIuiBu4Mj5gHAACmorIBAABMRbIBAABMRbIBAABMRbIBAABMRbIBAABMRbIBAABMRbIBAABMRbIB5EN9+/ZVp06d7K9btGhhf6puTlq/fr0sFovOnDmT4+cGkHuQbAA5qG/fvrJYLLJYLPL09FTFihU1efJkpaenm3rezz//XC+99FKW+pIgAHA2HsQG5LB27dpp7ty5Sk1N1cqVKzVkyBAVKlRIUVFRDv0uX74sT09Pp5yzWLFiTjkOANwOKhtADrNarQoKClJISIgGDx6s1q1b66uvvrIPfbz88ssKDg5WlSpVJEl//vmnHnvsMQUEBKhYsWJ65JFH9Pvvv9uPd+XKFQ0fPlwBAQEqXry4Ro8eneER5tcPo6SmpmrMmDEqW7asrFarKlasqA8//FC///67WrZsKUkqWrSoLBaL+vbtK0my2WyKjo5WaGiovLy8VKdOHX322WcO51m5cqUqV64sLy8vtWzZ0iFOAO6LZANwMS8vL12+fFmStHbtWu3bt09r1qzRihUrlJaWprZt28rX11c//PCDfvzxRxUpUkTt2rWzv+fNN9/UvHnz9NFHHykuLk6nT5/WF198cdNz9unTR5988ommT5+uPXv2aM6cOSpSpIjKli2rZcuWSZL27dunY8eOadq0aZKk6OhoLViwQLNnz9auXbsUGRmp3r17KzY2VtK/SVGXLl300EMPKSEhQQMGDNDYsWPN+tgA5CUGgBwTERFhPPLII4ZhGIbNZjPWrFljWK1WY+TIkUZERIRRqlQpIzU11d5/4cKFRpUqVQybzWZvS01NNby8vIzvvvvOMAzDKF26tPHaa6/Z96elpRl33XWX/TyGYRjNmzc3nnvuOcMwDGPfvn2GJGPNmjU3jHHdunWGJOOff/6xt126dMnw9vY2Nm7c6NC3f//+Ro8ePQzDMIyoqCijevXqDvvHjBmT4VgA3A9zNoActmLFChUpUkRpaWmy2Wzq2bOnJk6cqCFDhqhWrVoO8zS2b9+uxMRE+fr6Ohzj0qVLOnDggJKTk3Xs2DE1atTIvq9gwYJq0KBBhqGUqxISElSgQAE1b948yzEnJiYqJSVFDzzwgEP75cuXVa9ePUnSnj17HOKQpPDw8CyfA0D+RbIB5LCWLVtq1qxZ8vT0VHBwsAoW/P9/DX18fBz6nj9/XvXr19eiRYsyHKdkyZK3dX4vL69sv+f8+fOSpG+++UZlypRx2Ge1Wm8rDgDug2QDyGE+Pj6qWLFilvrefffdWrJkiQIDA+Xn53fDPqVLl9bmzZvVrFkzSVJ6erq2bt2qu++++4b9a9WqJZvNptjYWLVu3TrD/quVlStXrtjbqlevLqvVqsOHD2daEalWrZq++uorh7ZNmzbd+iIB5HtMEAVysV69eqlEiRJ65JFH9MMPP+jQoUNav369hg0bpiNHjkiSnnvuOb3yyitavny59u7dq2eeeeam98goX768IiIi9OSTT2r58uX2Y3766aeSpJCQEFksFq1YsUInT57U+fPn5evrq5EjRyoyMlLz58/XgQMHtG3bNs2YMUPz58+XJA0aNEj79+/XqFGjtG/fPi1evFjz5s0z+yMCkAeQbAC5mLe3tzZs2KBy5cqpS5cuqlatmvr3769Lly7ZKx0jRozQE088oYiICIWHh8vX11edO3e+6XFnzZqlRx99VM8884yqVq2qgQMH6sKFC5KkMmXKaNKkSRo7dqxKlSqloUOHSpJeeukljRs3TtHR0apWrZratWunb775RqGhoZKkcuXKadmyZVq+fLnq1Kmj2bNna+rUqSZ+OgDyCouR2SwyAAAAJ6CyAQAATEWyAQAATEWyAQAATEWyAQAATEWyAQAATEWyAQAATEWyAQAATEWyAQAATEWyAQAATEWyAQAATEWyAQAATEWyAQAATPX/AIjOQ0RFoxNuAAAAAElFTkSuQmCC\n",
                  "text/plain": "<Figure size 640x480 with 2 Axes>"
                },
                "metadata": {},
                "output_type": "display_data"
              }
            ]
          }
        },
        "26eb683a45514f0dbbc682cb46fd56c1": {
          "model_module": "@jupyter-widgets/base",
          "model_module_version": "1.2.0",
          "model_name": "LayoutModel",
          "state": {
            "_model_module": "@jupyter-widgets/base",
            "_model_module_version": "1.2.0",
            "_model_name": "LayoutModel",
            "_view_count": null,
            "_view_module": "@jupyter-widgets/base",
            "_view_module_version": "1.2.0",
            "_view_name": "LayoutView",
            "align_content": null,
            "align_items": null,
            "align_self": null,
            "border": null,
            "bottom": null,
            "display": null,
            "flex": null,
            "flex_flow": null,
            "grid_area": null,
            "grid_auto_columns": null,
            "grid_auto_flow": null,
            "grid_auto_rows": null,
            "grid_column": null,
            "grid_gap": null,
            "grid_row": null,
            "grid_template_areas": null,
            "grid_template_columns": null,
            "grid_template_rows": null,
            "height": null,
            "justify_content": null,
            "justify_items": null,
            "left": null,
            "margin": null,
            "max_height": null,
            "max_width": null,
            "min_height": null,
            "min_width": null,
            "object_fit": null,
            "object_position": null,
            "order": null,
            "overflow": null,
            "overflow_x": null,
            "overflow_y": null,
            "padding": null,
            "right": null,
            "top": null,
            "visibility": null,
            "width": null
          }
        },
        "27af37da0d75422db970ee94b57428be": {
          "model_module": "@jupyter-widgets/base",
          "model_module_version": "1.2.0",
          "model_name": "LayoutModel",
          "state": {
            "_model_module": "@jupyter-widgets/base",
            "_model_module_version": "1.2.0",
            "_model_name": "LayoutModel",
            "_view_count": null,
            "_view_module": "@jupyter-widgets/base",
            "_view_module_version": "1.2.0",
            "_view_name": "LayoutView",
            "align_content": null,
            "align_items": null,
            "align_self": null,
            "border": null,
            "bottom": null,
            "display": null,
            "flex": null,
            "flex_flow": null,
            "grid_area": null,
            "grid_auto_columns": null,
            "grid_auto_flow": null,
            "grid_auto_rows": null,
            "grid_column": null,
            "grid_gap": null,
            "grid_row": null,
            "grid_template_areas": null,
            "grid_template_columns": null,
            "grid_template_rows": null,
            "height": null,
            "justify_content": null,
            "justify_items": null,
            "left": null,
            "margin": null,
            "max_height": null,
            "max_width": null,
            "min_height": null,
            "min_width": null,
            "object_fit": null,
            "object_position": null,
            "order": null,
            "overflow": null,
            "overflow_x": null,
            "overflow_y": null,
            "padding": null,
            "right": null,
            "top": null,
            "visibility": null,
            "width": null
          }
        },
        "4fb60cada21741c5b95cf2d1f86c0f9d": {
          "model_module": "@jupyter-widgets/controls",
          "model_module_version": "1.5.0",
          "model_name": "VBoxModel",
          "state": {
            "_dom_classes": [
              "widget-interact"
            ],
            "_model_module": "@jupyter-widgets/controls",
            "_model_module_version": "1.5.0",
            "_model_name": "VBoxModel",
            "_view_count": null,
            "_view_module": "@jupyter-widgets/controls",
            "_view_module_version": "1.5.0",
            "_view_name": "VBoxView",
            "box_style": "",
            "children": [
              "IPY_MODEL_6c4aa7fedeaf4bad84aa3dc23cecbb16",
              "IPY_MODEL_130d577c6c0f4e1383ee7de97267bad8"
            ],
            "layout": "IPY_MODEL_26eb683a45514f0dbbc682cb46fd56c1"
          }
        },
        "6c4aa7fedeaf4bad84aa3dc23cecbb16": {
          "model_module": "@jupyter-widgets/controls",
          "model_module_version": "1.5.0",
          "model_name": "DropdownModel",
          "state": {
            "_dom_classes": [],
            "_model_module": "@jupyter-widgets/controls",
            "_model_module_version": "1.5.0",
            "_model_name": "DropdownModel",
            "_options_labels": [
              "bruteforce",
              "constructivealgorithms",
              "datastructures",
              "dfsandsimilar",
              "dp",
              "geometry",
              "greedy",
              "implementation",
              "math",
              "strings"
            ],
            "_view_count": null,
            "_view_module": "@jupyter-widgets/controls",
            "_view_module_version": "1.5.0",
            "_view_name": "DropdownView",
            "description": "Select Class:",
            "description_tooltip": null,
            "disabled": false,
            "index": 0,
            "layout": "IPY_MODEL_01030abd13dc4219823916e62792e709",
            "style": "IPY_MODEL_f233649e42654ab38d9d4d2170bbda17"
          }
        },
        "f233649e42654ab38d9d4d2170bbda17": {
          "model_module": "@jupyter-widgets/controls",
          "model_module_version": "1.5.0",
          "model_name": "DescriptionStyleModel",
          "state": {
            "_model_module": "@jupyter-widgets/controls",
            "_model_module_version": "1.5.0",
            "_model_name": "DescriptionStyleModel",
            "_view_count": null,
            "_view_module": "@jupyter-widgets/base",
            "_view_module_version": "1.2.0",
            "_view_name": "StyleView",
            "description_width": ""
          }
        }
      }
    }
  },
  "nbformat": 4,
  "nbformat_minor": 0
}

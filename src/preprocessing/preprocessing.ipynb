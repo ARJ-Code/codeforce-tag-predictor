{
 "cells": [
  {
   "cell_type": "markdown",
   "metadata": {},
   "source": [
    "# Importar librerías necesarias\n",
    "\n",
    "Importamos las librerías `pandas`, `nltk`, `re` y otras herramientas que utilizaremos para la manipulación y el procesamiento del texto."
   ]
  },
  {
   "cell_type": "code",
   "execution_count": 2,
   "metadata": {},
   "outputs": [
    {
     "data": {
      "text/html": [
       "<div>\n",
       "<style scoped>\n",
       "    .dataframe tbody tr th:only-of-type {\n",
       "        vertical-align: middle;\n",
       "    }\n",
       "\n",
       "    .dataframe tbody tr th {\n",
       "        vertical-align: top;\n",
       "    }\n",
       "\n",
       "    .dataframe thead th {\n",
       "        text-align: right;\n",
       "    }\n",
       "</style>\n",
       "<table border=\"1\" class=\"dataframe\">\n",
       "  <thead>\n",
       "    <tr style=\"text-align: right;\">\n",
       "      <th></th>\n",
       "      <th>time_limit</th>\n",
       "      <th>memory_limit</th>\n",
       "      <th>input_file</th>\n",
       "      <th>output_file</th>\n",
       "      <th>description</th>\n",
       "      <th>tags</th>\n",
       "      <th>points</th>\n",
       "      <th>rating</th>\n",
       "    </tr>\n",
       "  </thead>\n",
       "  <tbody>\n",
       "    <tr>\n",
       "      <th>1846/F</th>\n",
       "      <td>1 second</td>\n",
       "      <td>256 megabytes</td>\n",
       "      <td>standard</td>\n",
       "      <td>standard</td>\n",
       "      <td>This is an interactive task.Rudolph is a scien...</td>\n",
       "      <td>['constructive algorithms', 'implementation', ...</td>\n",
       "      <td>NaN</td>\n",
       "      <td>NaN</td>\n",
       "    </tr>\n",
       "    <tr>\n",
       "      <th>1847/D</th>\n",
       "      <td>2 seconds</td>\n",
       "      <td>256 megabytes</td>\n",
       "      <td>standard</td>\n",
       "      <td>standard</td>\n",
       "      <td>Josuke is tired of his peaceful life in Morioh...</td>\n",
       "      <td>['data structures', 'dsu', 'greedy', 'implemen...</td>\n",
       "      <td>2000.0</td>\n",
       "      <td>NaN</td>\n",
       "    </tr>\n",
       "    <tr>\n",
       "      <th>1846/E2</th>\n",
       "      <td>2 seconds</td>\n",
       "      <td>256 megabytes</td>\n",
       "      <td>standard</td>\n",
       "      <td>standard</td>\n",
       "      <td>This is the hard version of the problem. The o...</td>\n",
       "      <td>['binary search', 'brute force', 'data structu...</td>\n",
       "      <td>NaN</td>\n",
       "      <td>NaN</td>\n",
       "    </tr>\n",
       "    <tr>\n",
       "      <th>1846/E1</th>\n",
       "      <td>2 seconds</td>\n",
       "      <td>256 megabytes</td>\n",
       "      <td>standard</td>\n",
       "      <td>standard</td>\n",
       "      <td>This is a simple version of the problem. The o...</td>\n",
       "      <td>['brute force', 'implementation', 'math']</td>\n",
       "      <td>NaN</td>\n",
       "      <td>NaN</td>\n",
       "    </tr>\n",
       "    <tr>\n",
       "      <th>1846/C</th>\n",
       "      <td>1 second</td>\n",
       "      <td>256 megabytes</td>\n",
       "      <td>standard</td>\n",
       "      <td>standard</td>\n",
       "      <td>Rudolf has registered for a programming compet...</td>\n",
       "      <td>['constructive algorithms', 'greedy', 'impleme...</td>\n",
       "      <td>NaN</td>\n",
       "      <td>NaN</td>\n",
       "    </tr>\n",
       "  </tbody>\n",
       "</table>\n",
       "</div>"
      ],
      "text/plain": [
       "        time_limit   memory_limit input_file output_file  \\\n",
       "1846/F    1 second  256 megabytes  standard    standard    \n",
       "1847/D   2 seconds  256 megabytes  standard    standard    \n",
       "1846/E2  2 seconds  256 megabytes  standard    standard    \n",
       "1846/E1  2 seconds  256 megabytes  standard    standard    \n",
       "1846/C    1 second  256 megabytes  standard    standard    \n",
       "\n",
       "                                               description  \\\n",
       "1846/F   This is an interactive task.Rudolph is a scien...   \n",
       "1847/D   Josuke is tired of his peaceful life in Morioh...   \n",
       "1846/E2  This is the hard version of the problem. The o...   \n",
       "1846/E1  This is a simple version of the problem. The o...   \n",
       "1846/C   Rudolf has registered for a programming compet...   \n",
       "\n",
       "                                                      tags  points  rating  \n",
       "1846/F   ['constructive algorithms', 'implementation', ...     NaN     NaN  \n",
       "1847/D   ['data structures', 'dsu', 'greedy', 'implemen...  2000.0     NaN  \n",
       "1846/E2  ['binary search', 'brute force', 'data structu...     NaN     NaN  \n",
       "1846/E1          ['brute force', 'implementation', 'math']     NaN     NaN  \n",
       "1846/C   ['constructive algorithms', 'greedy', 'impleme...     NaN     NaN  "
      ]
     },
     "execution_count": 2,
     "metadata": {},
     "output_type": "execute_result"
    }
   ],
   "source": [
    "import pandas as pd\n",
    "\n",
    "df = pd.read_csv('../../data/codeforce_raw_data.csv', index_col=0, encoding='utf8')\n",
    "df.head()"
   ]
  },
  {
   "cell_type": "code",
   "execution_count": 3,
   "metadata": {},
   "outputs": [],
   "source": [
    "import re\n",
    "\n",
    "# This is an interactive task.Rudolph is a scientist who studies alien life forms.\n",
    "# -> This is an interactive task. Rudolph is a scientist who studies alien life forms.\n",
    "def processing_dot_capitalize(sentences):\n",
    "    new_sentences = \"\" \n",
    "    prev = sentences[0]\n",
    "    for t in sentences:\n",
    "        if prev == '.' and t.isupper():\n",
    "            new_sentences += ' '\n",
    "        new_sentences += t\n",
    "        prev = t\n",
    "    return new_sentences\n",
    "\n",
    "# ( $$$ 1 \\\\le t_{i, j} \\\\le 10^6 $$$ )\n",
    "# -> ( $$$ 1 \\\\le t_{i, j} \\\\le 1000000 $$$ )\n",
    "def replace_exponent_notation(text):\n",
    "    def replace_exponent(match):\n",
    "        exponent = int(match.group(1))\n",
    "        return str(10 ** exponent)\n",
    "\n",
    "    replaced_text = re.sub(r'10\\^(\\d+)', replace_exponent, text)\n",
    "\n",
    "    return replaced_text\n",
    "\n",
    "# There is a room in front of rudolph with $$$n$$$ different objects scattered around.\n",
    "# -> There is a room in front of Rudolph with $$$ n $$$ different objects scattered around.\n",
    "def add_spacing_between_dollar_signs(text):\n",
    "    pattern = r'(?<=\\$\\$\\$)(?=\\S)|(?<=\\S)(?=\\$\\$\\$)'\n",
    "\n",
    "    spaced_text = re.sub(pattern, ' ', text)\n",
    "\n",
    "    return spaced_text\n",
    "\n",
    "# This is an interactive task. \n",
    "# -> this is an interactive task.\n",
    "def convert_to_lowercase(text):\n",
    "    return text.lower()\n",
    "\n",
    "def is_number(string: str):\n",
    "    return string.isdigit()\n",
    "\n",
    "def list_to_string(lst):\n",
    "    return ' '.join(lst)\n",
    "\n",
    "# 2 \\\\cdot 100000 \n",
    "# -> 200000\n",
    "def calculate_multiplication(text: str):\n",
    "    t = text.split() \n",
    "    new_text = []  \n",
    "    count = 0  \n",
    "    \n",
    "    for i in range(len(t)):\n",
    "        if count > 0:\n",
    "            count -= 1\n",
    "            continue\n",
    "        \n",
    "        # Check if the current word and the word after it form a multiplication expression\n",
    "        if not len(t) - i < 3 and is_number(t[i]) and is_number(t[i + 2]) and t[i + 1] == '\\cdot':\n",
    "            new_text.append(str(eval(t[i] + '*' + t[i + 2])))\n",
    "            count = 2 \n",
    "        else:\n",
    "            new_text.append(t[i]) \n",
    "    \n",
    "    return ' '.join(new_text)"
   ]
  },
  {
   "cell_type": "code",
   "execution_count": 4,
   "metadata": {},
   "outputs": [],
   "source": [
    "def preprocessing(text):\n",
    "    text = processing_dot_capitalize(text)\n",
    "    text = convert_to_lowercase(text)\n",
    "    text = add_spacing_between_dollar_signs(text)\n",
    "    text = replace_exponent_notation(text)\n",
    "    text = calculate_multiplication(text)\n",
    "    return text"
   ]
  },
  {
   "cell_type": "code",
   "execution_count": 5,
   "metadata": {},
   "outputs": [
    {
     "name": "stderr",
     "output_type": "stream",
     "text": [
      "[nltk_data] Downloading package punkt to /home/alex0125/nltk_data...\n",
      "[nltk_data]   Package punkt is already up-to-date!\n",
      "[nltk_data] Downloading package stopwords to\n",
      "[nltk_data]     /home/alex0125/nltk_data...\n",
      "[nltk_data]   Package stopwords is already up-to-date!\n"
     ]
    },
    {
     "data": {
      "text/plain": [
       "True"
      ]
     },
     "execution_count": 5,
     "metadata": {},
     "output_type": "execute_result"
    }
   ],
   "source": [
    "import nltk\n",
    "from nltk import sent_tokenize\n",
    "from nltk.tokenize import word_tokenize\n",
    "from nltk.stem import WordNetLemmatizer\n",
    "nltk.download('punkt')\n",
    "nltk.download('stopwords')"
   ]
  },
  {
   "cell_type": "code",
   "execution_count": 6,
   "metadata": {},
   "outputs": [],
   "source": [
    "def split_sentences(sentences):\n",
    "    return sent_tokenize(sentences)\n",
    "\n",
    "def split_words(sentence):\n",
    "    return word_tokenize(sentence)"
   ]
  },
  {
   "cell_type": "code",
   "execution_count": 7,
   "metadata": {},
   "outputs": [],
   "source": [
    "def lemmatization(tokens):\n",
    "    \"\"\"Lemmatize each word in the list of tokens as verbs\"\"\"\n",
    "\n",
    "    lmtzr = WordNetLemmatizer()\n",
    "    \n",
    "    tokens = [lmtzr.lemmatize(word, 'v') for word in tokens]\n",
    "    \n",
    "    return tokens\n",
    "\n",
    "def remove_stopwords(tokens):\n",
    "    \"\"\"Remove stopwords with more tham one letter\"\"\"\n",
    "    \n",
    "    filtered_words = []  \n",
    "    stopwords = nltk.corpus.stopwords.words('english')  \n",
    "    stopwords = [item for item in stopwords if len(item) > 1] \n",
    "    \n",
    "    for word in tokens:\n",
    "        if word not in stopwords:\n",
    "            filtered_words.append(word)\n",
    "    \n",
    "    return filtered_words"
   ]
  },
  {
   "cell_type": "code",
   "execution_count": 8,
   "metadata": {},
   "outputs": [],
   "source": [
    "def get_preprocessing_sentence(tokens):\n",
    "    filtered_words = remove_stopwords(tokens)\n",
    "    filtered_words = lemmatization(filtered_words)\n",
    "    return ' '.join(filtered_words).replace('$ $ $', '$$$')"
   ]
  },
  {
   "cell_type": "code",
   "execution_count": 9,
   "metadata": {},
   "outputs": [],
   "source": [
    "def get_preprocessed_sentence(sentences):\n",
    "    new_sentences = []\n",
    "\n",
    "    sentences = preprocessing(sentences)\n",
    "    sentences_list = split_sentences(sentences)\n",
    "    \n",
    "    for sentence in sentences_list:\n",
    "        tokens = split_words(sentence)\n",
    "        preprocessed_sentence = get_preprocessing_sentence(tokens)\n",
    "        if preprocessed_sentence[-1] == '.':\n",
    "            preprocessed_sentence = preprocessed_sentence[:-2]\n",
    "        new_sentences.append(preprocessed_sentence.replace(' , ', ' '))\n",
    "    return new_sentences"
   ]
  },
  {
   "cell_type": "code",
   "execution_count": 10,
   "metadata": {},
   "outputs": [],
   "source": [
    "df = df.dropna(subset=['description'])"
   ]
  },
  {
   "cell_type": "code",
   "execution_count": 11,
   "metadata": {},
   "outputs": [
    {
     "name": "stderr",
     "output_type": "stream",
     "text": [
      "100%|██████████| 7968/7968 [00:30<00:00, 263.61it/s]\n"
     ]
    }
   ],
   "source": [
    "from tqdm import tqdm\n",
    "\n",
    "new_description = []\n",
    "for description in tqdm(df['description'].values):\n",
    "    new_description.append(get_preprocessed_sentence(description))"
   ]
  },
  {
   "cell_type": "code",
   "execution_count": 12,
   "metadata": {},
   "outputs": [],
   "source": [
    "df['description'] = new_description"
   ]
  },
  {
   "cell_type": "code",
   "execution_count": 13,
   "metadata": {},
   "outputs": [
    {
     "data": {
      "text/html": [
       "<div>\n",
       "<style scoped>\n",
       "    .dataframe tbody tr th:only-of-type {\n",
       "        vertical-align: middle;\n",
       "    }\n",
       "\n",
       "    .dataframe tbody tr th {\n",
       "        vertical-align: top;\n",
       "    }\n",
       "\n",
       "    .dataframe thead th {\n",
       "        text-align: right;\n",
       "    }\n",
       "</style>\n",
       "<table border=\"1\" class=\"dataframe\">\n",
       "  <thead>\n",
       "    <tr style=\"text-align: right;\">\n",
       "      <th></th>\n",
       "      <th>time_limit</th>\n",
       "      <th>memory_limit</th>\n",
       "      <th>input_file</th>\n",
       "      <th>output_file</th>\n",
       "      <th>description</th>\n",
       "      <th>tags</th>\n",
       "      <th>points</th>\n",
       "      <th>rating</th>\n",
       "    </tr>\n",
       "  </thead>\n",
       "  <tbody>\n",
       "    <tr>\n",
       "      <th>1846/F</th>\n",
       "      <td>1 second</td>\n",
       "      <td>256 megabytes</td>\n",
       "      <td>standard</td>\n",
       "      <td>standard</td>\n",
       "      <td>interactive task rudolph a scientist study ali...</td>\n",
       "      <td>['constructive algorithms', 'implementation', ...</td>\n",
       "      <td>NaN</td>\n",
       "      <td>NaN</td>\n",
       "    </tr>\n",
       "    <tr>\n",
       "      <th>1847/D</th>\n",
       "      <td>2 seconds</td>\n",
       "      <td>256 megabytes</td>\n",
       "      <td>standard</td>\n",
       "      <td>standard</td>\n",
       "      <td>josuke tire peaceful life morioh follow nephew...</td>\n",
       "      <td>['data structures', 'dsu', 'greedy', 'implemen...</td>\n",
       "      <td>2000.0</td>\n",
       "      <td>NaN</td>\n",
       "    </tr>\n",
       "    <tr>\n",
       "      <th>1846/E2</th>\n",
       "      <td>2 seconds</td>\n",
       "      <td>256 megabytes</td>\n",
       "      <td>standard</td>\n",
       "      <td>standard</td>\n",
       "      <td>hard version problem difference version $$$ n ...</td>\n",
       "      <td>['binary search', 'brute force', 'data structu...</td>\n",
       "      <td>NaN</td>\n",
       "      <td>NaN</td>\n",
       "    </tr>\n",
       "    <tr>\n",
       "      <th>1846/E1</th>\n",
       "      <td>2 seconds</td>\n",
       "      <td>256 megabytes</td>\n",
       "      <td>standard</td>\n",
       "      <td>standard</td>\n",
       "      <td>a simple version problem difference version $$...</td>\n",
       "      <td>['brute force', 'implementation', 'math']</td>\n",
       "      <td>NaN</td>\n",
       "      <td>NaN</td>\n",
       "    </tr>\n",
       "    <tr>\n",
       "      <th>1846/C</th>\n",
       "      <td>1 second</td>\n",
       "      <td>256 megabytes</td>\n",
       "      <td>standard</td>\n",
       "      <td>standard</td>\n",
       "      <td>rudolf register a program competition follow r...</td>\n",
       "      <td>['constructive algorithms', 'greedy', 'impleme...</td>\n",
       "      <td>NaN</td>\n",
       "      <td>NaN</td>\n",
       "    </tr>\n",
       "  </tbody>\n",
       "</table>\n",
       "</div>"
      ],
      "text/plain": [
       "        time_limit   memory_limit input_file output_file  \\\n",
       "1846/F    1 second  256 megabytes  standard    standard    \n",
       "1847/D   2 seconds  256 megabytes  standard    standard    \n",
       "1846/E2  2 seconds  256 megabytes  standard    standard    \n",
       "1846/E1  2 seconds  256 megabytes  standard    standard    \n",
       "1846/C    1 second  256 megabytes  standard    standard    \n",
       "\n",
       "                                               description  \\\n",
       "1846/F   interactive task rudolph a scientist study ali...   \n",
       "1847/D   josuke tire peaceful life morioh follow nephew...   \n",
       "1846/E2  hard version problem difference version $$$ n ...   \n",
       "1846/E1  a simple version problem difference version $$...   \n",
       "1846/C   rudolf register a program competition follow r...   \n",
       "\n",
       "                                                      tags  points  rating  \n",
       "1846/F   ['constructive algorithms', 'implementation', ...     NaN     NaN  \n",
       "1847/D   ['data structures', 'dsu', 'greedy', 'implemen...  2000.0     NaN  \n",
       "1846/E2  ['binary search', 'brute force', 'data structu...     NaN     NaN  \n",
       "1846/E1          ['brute force', 'implementation', 'math']     NaN     NaN  \n",
       "1846/C   ['constructive algorithms', 'greedy', 'impleme...     NaN     NaN  "
      ]
     },
     "execution_count": 13,
     "metadata": {},
     "output_type": "execute_result"
    }
   ],
   "source": [
    "df['description'] = df['description'].apply(list_to_string)\n",
    "df.head()"
   ]
  },
  {
   "cell_type": "code",
   "execution_count": null,
   "metadata": {},
   "outputs": [],
   "source": [
    "def dollar_processing(arr):\n",
    "    \"\"\"Replace consecutive '$' with '$$$'\"\"\"\n",
    "\n",
    "    new_arr = []\n",
    "\n",
    "    i = 0\n",
    "    while i < len(arr):\n",
    "        if i + 2 < len(arr) and arr[i] == '$' and arr[i + 1] == '$' and arr[i + 2] == '$':\n",
    "            new_arr.append('$$$')\n",
    "            i += 3\n",
    "        else:\n",
    "            new_arr.append(arr[i])\n",
    "            i += 1\n",
    "    return new_arr"
   ]
  },
  {
   "cell_type": "code",
   "execution_count": null,
   "metadata": {},
   "outputs": [],
   "source": [
    "from collections import Counter, defaultdict\n",
    "from torchtext.data.utils import get_tokenizer\n",
    "\n",
    "def tokenizing_sentences(sentences):\n",
    "  \n",
    "    tokenizer = get_tokenizer(\"spacy\")\n",
    "\n",
    "    new_sentences = []\n",
    "    for sentence in sentences:\n",
    "        tokens = tokenizer(sentence)\n",
    "        new_sentences.append(dollar_processing(tokens))\n",
    "        \n",
    "    return new_sentences"
   ]
  },
  {
   "cell_type": "code",
   "execution_count": null,
   "metadata": {},
   "outputs": [],
   "source": [
    "df['description'] = tokenizing_sentences(df['description'])"
   ]
  },
  {
   "cell_type": "code",
   "execution_count": null,
   "metadata": {},
   "outputs": [],
   "source": [
    "df['description'] = df['description'].apply(list_to_string)\n",
    "df.head()"
   ]
  },
  {
   "cell_type": "code",
   "execution_count": null,
   "metadata": {},
   "outputs": [],
   "source": [
    "df.to_csv('codeforce_processed_data.csv')"
   ]
  }
 ],
 "metadata": {
  "kernelspec": {
   "display_name": "Python 3",
   "language": "python",
   "name": "python3"
  },
  "language_info": {
   "codemirror_mode": {
    "name": "ipython",
    "version": 3
   },
   "file_extension": ".py",
   "mimetype": "text/x-python",
   "name": "python",
   "nbconvert_exporter": "python",
   "pygments_lexer": "ipython3",
   "version": "3.10.6"
  }
 },
 "nbformat": 4,
 "nbformat_minor": 2
}
